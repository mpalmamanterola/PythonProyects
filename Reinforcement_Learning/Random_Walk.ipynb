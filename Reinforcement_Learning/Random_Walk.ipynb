{
 "cells": [
  {
   "cell_type": "markdown",
   "id": "d227aa9c-e11a-4b97-ab1f-0b558eb9df76",
   "metadata": {},
   "source": [
    "# Caminata Aleatoria"
   ]
  },
  {
   "cell_type": "code",
   "execution_count": 1,
   "id": "23b84c16-14ab-4e02-b437-39ebae15d8dd",
   "metadata": {
    "tags": []
   },
   "outputs": [
    {
     "data": {
      "image/png": "[encoded data removed]",
      "text/plain": [
       "<Figure size 432x288 with 1 Axes>"
      ]
     },
     "metadata": {
      "needs_background": "light"
     },
     "output_type": "display_data"
    }
   ],
   "source": [
    "# %load rwsimulation.py\n",
    "from random import seed\n",
    "from random import random\n",
    "from matplotlib import pyplot\n",
    "seed(73)\n",
    "RandomWalk = list()\n",
    "RandomWalk.append(-1 if random() < 0.3 else 1)\n",
    "for i in range(1, 100):\n",
    "\tZn = -1 if random() < 0.3 else 1\n",
    "\tXn = RandomWalk[i-1] + Zn\n",
    "\tRandomWalk.append(Xn)\n",
    "pyplot.plot(RandomWalk)\n",
    "pyplot.show()"
   ]
  },
  {
   "cell_type": "code",
   "execution_count": 40,
   "id": "fe428963-63e9-4f9c-afa9-b59d7fe37d2a",
   "metadata": {},
   "outputs": [
    {
     "data": {
      "text/plain": [
       "[0.1, 0.2, 0.3, 0.3, 0.1]"
      ]
     },
     "execution_count": 40,
     "metadata": {},
     "output_type": "execute_result"
    }
   ],
   "source": [
    "TransnMatrix[3]"
   ]
  },
  {
   "cell_type": "code",
   "execution_count": 3,
   "id": "6cfdfcc0-6f38-4489-8bb5-a1fb4797394d",
   "metadata": {},
   "outputs": [
    {
     "name": "stdout",
     "output_type": "stream",
     "text": [
      "Weather initial condition = Sunny\n"
     ]
    },
    {
     "data": {
      "image/png": "[encoded data removed]",
      "text/plain": [
       "<Figure size 432x288 with 1 Axes>"
      ]
     },
     "metadata": {
      "needs_background": "light"
     },
     "output_type": "display_data"
    },
    {
     "data": {
      "image/png": "[encoded data removed]",
      "text/plain": [
       "<Figure size 432x288 with 1 Axes>"
      ]
     },
     "metadata": {
      "needs_background": "light"
     },
     "output_type": "display_data"
    }
   ],
   "source": [
    "# %load MarkovChain.py\n",
    "import numpy as np\n",
    "import time\n",
    "from matplotlib import pyplot\n",
    "\n",
    "np.random.seed(1)\n",
    "states = [\"Sunny\",\"Rainy\"]\n",
    "\n",
    "TransStates = [[\"SuSu\",\"SuRa\"],\n",
    "               [\"RaSu\",\"RaRa\"]]\n",
    "TransnMatrix = [[0.75,0.25],\n",
    "                [0.10,0.90]]\n",
    "\n",
    "if sum(TransnMatrix[0])+sum(TransnMatrix[1]) != 2:\n",
    "    print(\"Warning! Probabilities MUST ADD TO 1. Wrong transition matrix!!\")\n",
    "    raise ValueError(\"Probabilities MUST ADD TO 1\")\n",
    "\n",
    "WT = list()\n",
    "NumberDays = 50\n",
    "WeatherToday = states[0]\n",
    "\n",
    "print(\"Weather initial condition =\",WeatherToday)\n",
    "\n",
    "i = 0\n",
    "\n",
    "while i < NumberDays:\n",
    "    \n",
    "    if WeatherToday == \"Sunny\":        \n",
    "        TransWeather = np.random.choice(TransStates[0],replace=True,p=TransnMatrix[0])\n",
    "        if TransWeather == \"SuSu\":\n",
    "            pass\n",
    "        else:\n",
    "            WeatherToday = \"Rainy\"\n",
    "\n",
    "\n",
    "            \n",
    "    elif WeatherToday == \"Rainy\":\n",
    "        TransWeather = np.random.choice(TransStates[1],replace=True,p=TransnMatrix[1])\n",
    "        if TransWeather == \"RaRa\":\n",
    "            pass\n",
    "        else:\n",
    "            WeatherToday = \"Sunny\"\n",
    "\n",
    "            \n",
    "    #print(WeatherToday)\n",
    "    WT.append(WeatherToday) \n",
    "    i += 1\n",
    "    #time.sleep(0.2)\n",
    "\n",
    "pyplot.plot(WT)\n",
    "pyplot.show()\n",
    "\n",
    "pyplot.hist(WT)\n",
    "pyplot.show()\n"
   ]
  },
  {
   "cell_type": "code",
   "execution_count": 50,
   "id": "cc9d1a7f-6430-41bf-be34-1b47da34158b",
   "metadata": {
    "collapsed": true,
    "jupyter": {
     "outputs_hidden": true
    },
    "tags": []
   },
   "outputs": [
    {
     "name": "stdout",
     "output_type": "stream",
     "text": [
      "Weather initial condition = Sunny\n",
      "Sunny\n",
      "Sunny\n",
      "Sunny\n",
      "Sunny\n",
      "Sunny\n",
      "Sunny\n",
      "Sunny\n",
      "Sunny\n",
      "Sunny\n",
      "Sunny\n",
      "Sunny\n",
      "Sunny\n",
      "Sunny\n",
      "Rainy\n",
      "Rainy\n",
      "Sunny\n",
      "Sunny\n",
      "Sunny\n",
      "Sunny\n",
      "Sunny\n",
      "Rainy\n",
      "Sunny\n",
      "Sunny\n",
      "Sunny\n",
      "Rainy\n",
      "Sunny\n",
      "Sunny\n",
      "Sunny\n",
      "Sunny\n",
      "Rainy\n",
      "Rainy\n",
      "Sunny\n",
      "Rainy\n",
      "Sunny\n",
      "Sunny\n",
      "Sunny\n",
      "Sunny\n",
      "Rainy\n",
      "Rainy\n",
      "Sunny\n",
      "Rainy\n",
      "Sunny\n",
      "Sunny\n",
      "Rainy\n",
      "Rainy\n",
      "Sunny\n",
      "Rainy\n",
      "Rainy\n",
      "Rainy\n",
      "Rainy\n",
      "Rainy\n",
      "Sunny\n",
      "Sunny\n",
      "Sunny\n",
      "Sunny\n",
      "Sunny\n",
      "Sunny\n",
      "Sunny\n",
      "Sunny\n",
      "Sunny\n",
      "Sunny\n",
      "Sunny\n",
      "Sunny\n",
      "Sunny\n",
      "Sunny\n",
      "Sunny\n",
      "Sunny\n",
      "Sunny\n",
      "Rainy\n",
      "Sunny\n",
      "Rainy\n",
      "Rainy\n",
      "Rainy\n",
      "Sunny\n",
      "Sunny\n",
      "Sunny\n",
      "Rainy\n",
      "Sunny\n",
      "Rainy\n",
      "Sunny\n",
      "Rainy\n",
      "Sunny\n",
      "Rainy\n",
      "Sunny\n",
      "Sunny\n",
      "Rainy\n",
      "Sunny\n",
      "Rainy\n",
      "Sunny\n",
      "Sunny\n",
      "Sunny\n",
      "Rainy\n",
      "Sunny\n",
      "Sunny\n",
      "Sunny\n",
      "Sunny\n",
      "Rainy\n",
      "Sunny\n",
      "Sunny\n",
      "Sunny\n",
      "Sunny\n",
      "Sunny\n",
      "Rainy\n",
      "Sunny\n",
      "Rainy\n",
      "Sunny\n",
      "Sunny\n",
      "Rainy\n",
      "Sunny\n",
      "Rainy\n",
      "Rainy\n",
      "Rainy\n",
      "Sunny\n",
      "Sunny\n",
      "Sunny\n",
      "Rainy\n",
      "Sunny\n",
      "Rainy\n",
      "Sunny\n",
      "Sunny\n",
      "Sunny\n",
      "Sunny\n",
      "Sunny\n",
      "Sunny\n",
      "Rainy\n",
      "Sunny\n",
      "Sunny\n",
      "Rainy\n",
      "Rainy\n",
      "Rainy\n",
      "Sunny\n",
      "Rainy\n",
      "Sunny\n",
      "Sunny\n",
      "Rainy\n",
      "Rainy\n",
      "Sunny\n",
      "Sunny\n",
      "Rainy\n",
      "Sunny\n",
      "Sunny\n",
      "Sunny\n",
      "Sunny\n",
      "Sunny\n",
      "Sunny\n",
      "Sunny\n",
      "Sunny\n",
      "Sunny\n",
      "Sunny\n",
      "Sunny\n",
      "Sunny\n",
      "Rainy\n",
      "Sunny\n",
      "Sunny\n",
      "Sunny\n",
      "Sunny\n",
      "Sunny\n",
      "Sunny\n",
      "Rainy\n",
      "Sunny\n",
      "Sunny\n",
      "Sunny\n",
      "Sunny\n",
      "Rainy\n",
      "Rainy\n",
      "Rainy\n",
      "Rainy\n",
      "Sunny\n",
      "Sunny\n",
      "Sunny\n",
      "Sunny\n",
      "Rainy\n",
      "Sunny\n",
      "Sunny\n",
      "Sunny\n",
      "Sunny\n",
      "Sunny\n",
      "Sunny\n",
      "Sunny\n",
      "Sunny\n",
      "Sunny\n",
      "Sunny\n",
      "Rainy\n",
      "Rainy\n",
      "Rainy\n",
      "Sunny\n",
      "Sunny\n",
      "Sunny\n",
      "Sunny\n",
      "Rainy\n",
      "Rainy\n",
      "Rainy\n",
      "Sunny\n",
      "Rainy\n",
      "Sunny\n",
      "Rainy\n",
      "Rainy\n",
      "Rainy\n",
      "Sunny\n",
      "Rainy\n"
     ]
    },
    {
     "data": {
      "image/png": "[encoded data removed]",
      "text/plain": [
       "<Figure size 432x288 with 1 Axes>"
      ]
     },
     "metadata": {
      "needs_background": "light"
     },
     "output_type": "display_data"
    },
    {
     "data": {
      "image/png": "[encoded data removed]",
      "text/plain": [
       "<Figure size 432x288 with 1 Axes>"
      ]
     },
     "metadata": {
      "needs_background": "light"
     },
     "output_type": "display_data"
    }
   ],
   "source": [
    "# %load MarkovChain.py\n",
    "import numpy as np\n",
    "import time\n",
    "from matplotlib import pyplot\n",
    "\n",
    "np.random.seed(1)\n",
    "states = [\"Sunny\",\"Rainy\"]\n",
    "\n",
    "TransStates = [[\"SuSu\",\"SuRa\"],[\"RaRa\",\"RaSu\"]]\n",
    "TransnMatrix = [[0.75,0.25],[0.30,0.70]]\n",
    "\n",
    "if sum(TransnMatrix[0])+sum(TransnMatrix[1]) != 2:\n",
    "    print(\"Warning! Probabilities MUST ADD TO 1. Wrong transition matrix!!\")\n",
    "    raise ValueError(\"Probabilities MUST ADD TO 1\")\n",
    "\n",
    "WT = list()\n",
    "NumberDays = 200\n",
    "WeatherToday = states[0]\n",
    "\n",
    "print(\"Weather initial condition =\",WeatherToday)\n",
    "\n",
    "i = 0\n",
    "\n",
    "while i < NumberDays:\n",
    "    \n",
    "    if WeatherToday == \"Sunny\":        \n",
    "        TransWeather = np.random.choice(TransStates[0],replace=True,p=TransnMatrix[0])\n",
    "        if TransWeather == \"SuSu\":\n",
    "            pass\n",
    "        else:\n",
    "            WeatherToday = \"Rainy\"\n",
    "\n",
    "\n",
    "            \n",
    "    elif WeatherToday == \"Rainy\":\n",
    "        TransWeather = np.random.choice(TransStates[1],replace=True,p=TransnMatrix[1])\n",
    "        if TransWeather == \"RaRa\":\n",
    "            pass\n",
    "        else:\n",
    "            WeatherToday = \"Sunny\"\n",
    "\n",
    "            \n",
    "    print(WeatherToday)\n",
    "    WT.append(WeatherToday) \n",
    "    i += 1\n",
    "    time.sleep(0.2)\n",
    "\n",
    "pyplot.plot(WT)\n",
    "pyplot.show()\n",
    "\n",
    "pyplot.hist(WT)\n",
    "pyplot.show()\n"
   ]
  },
  {
   "cell_type": "code",
   "execution_count": 53,
   "id": "97347eb8-ada6-421c-9a68-115a37a950c1",
   "metadata": {},
   "outputs": [
    {
     "name": "stdout",
     "output_type": "stream",
     "text": [
      "Five randomly-generated sentences\n",
      "-----------------------------------\n",
      "But we have no further go.\n",
      "No ailment was found, and he wondered where he was.\n",
      "Tom did not occur to him that if he had no company but the words refused to carry out its mission of increasing the number of other ways of getting at the gate with a pin out of his escapade.\n",
      "No matter what the minister raised his streaming eyes above his handkerchief, and stood regarding her.\n",
      "Tom soon found himself leaning to the farther end of the night.\n",
      "-----------------------------------\n",
      "three randomly-generated sentences of no more than 100 characters\n",
      "-----------------------------------\n",
      "But old fools is the way it is not money.\n",
      "The boys had a secret which he takes no distinct note of.\n",
      "The three weeks and threatened to make Tom see it in reserve as a last seduction.\n"
     ]
    }
   ],
   "source": [
    "# %load MCTextGen.py\n",
    "import markovify\n",
    "\n",
    "with open(\"corpus.txt\") as f:\n",
    "    CorpusText = f.read()\n",
    "\n",
    "TextModel = markovify.Text(CorpusText)\n",
    "\n",
    "print(\"Five randomly-generated sentences\")\n",
    "print(\"-----------------------------------\")\n",
    "for i in range(5):\n",
    "    print(TextModel.make_sentence())\n",
    "\n",
    "print(\"-----------------------------------\")\n",
    "print(\"three randomly-generated sentences of no more than 100 characters\")\n",
    "print(\"-----------------------------------\")\n",
    "for i in range(3):\n",
    "    print(TextModel.make_short_sentence(100))\n"
   ]
  },
  {
   "cell_type": "code",
   "execution_count": null,
   "id": "d935da32-6837-4922-8a11-c7e8102c928c",
   "metadata": {},
   "outputs": [],
   "source": []
  }
 ],
 "metadata": {
  "kernelspec": {
   "display_name": "Python 3 (ipykernel)",
   "language": "python",
   "name": "python3"
  },
  "language_info": {
   "codemirror_mode": {
    "name": "ipython",
    "version": 3
   },
   "file_extension": ".py",
   "mimetype": "text/x-python",
   "name": "python",
   "nbconvert_exporter": "python",
   "pygments_lexer": "ipython3",
   "version": "3.9.7"
  }
 },
 "nbformat": 4,
 "nbformat_minor": 5
}
