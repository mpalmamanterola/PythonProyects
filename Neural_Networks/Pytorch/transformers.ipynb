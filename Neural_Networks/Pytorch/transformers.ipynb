{
 "cells": [
  {
   "cell_type": "code",
   "execution_count": 6,
   "metadata": {},
   "outputs": [],
   "source": [
    "import torch \n",
    "import torch.nn.functional as F\n",
    "import torch.nn as nn\n",
    "import math\n",
    "\n",
    "import numpy as np \n",
    "import random \n",
    "\n",
    "seed = 73 \n",
    "random.seed(seed)\n",
    "np.random.seed(seed)\n",
    "torch.manual_seed(seed)\n",
    "torch.cuda.manual_seed_all(seed)"
   ]
  },
  {
   "cell_type": "code",
   "execution_count": 7,
   "metadata": {},
   "outputs": [
    {
     "data": {
      "text/plain": [
       "torch.Size([3, 768])"
      ]
     },
     "execution_count": 7,
     "metadata": {},
     "output_type": "execute_result"
    }
   ],
   "source": [
    "# se instancia el tensor(aleatorio) de orden 2 que simula el embeding de cada token único dentro del léxico,\n",
    "# en este caso, el tamaño del léxico es 3 y la dimensión de embedding es 768 (la misma dimensión que BERT)\n",
    "embed_dim = 768\n",
    "n_tokens = 3\n",
    "\n",
    "embedding_words = torch.rand((n_tokens, embed_dim))*0.1        # 3 x 768\n",
    "embedding_words.shape"
   ]
  },
  {
   "cell_type": "code",
   "execution_count": 8,
   "metadata": {},
   "outputs": [],
   "source": [
    "linear_query = nn.Linear(in_features = embed_dim, out_features = embed_dim)\n",
    "linear_key = nn.Linear(in_features = embed_dim, out_features = embed_dim)\n",
    "linear_value = nn.Linear(in_features = embed_dim, out_features = embed_dim)\n",
    "\n",
    "# se aplican las proyecciones al embedding \n",
    "query = linear_query(embedding_words)          # 3 x 768\n",
    "key = linear_key(embedding_words)              # 3 x 768\n",
    "value = linear_value(embedding_words)          # 3 x 768"
   ]
  },
  {
   "cell_type": "code",
   "execution_count": 9,
   "metadata": {},
   "outputs": [],
   "source": [
    "def attention(query, key, value):\n",
    "    \"\"\"Capa para obtener 'Scaled Dot Product Attention'\n",
    "\n",
    "    Args:\n",
    "        query (torch.Tensor): Tensor de pesos de consulta\n",
    "        key (torch.Tensor): Tensor de pesos del valor clave en el embedding\n",
    "        value (torch.Tensor): Tensor de  valores de los tokens\n",
    "    \"\"\"\n",
    "    # dimensión del embedding\n",
    "    d_k = query.shape[-1]\n",
    "\n",
    "    scores = torch.matmul(query, key.transpose(-2, -1)) / math.sqrt(d_k) \n",
    "    attn = F.softmax(scores, dim = -1)\n",
    "    z = torch.matmul(attn, value)\n",
    "\n",
    "    return z, attn"
   ]
  },
  {
   "cell_type": "code",
   "execution_count": 10,
   "metadata": {},
   "outputs": [],
   "source": [
    "class MultiHeadAttention(nn.Module):\n",
    "    \"\"\"_summary_\n",
    "\n",
    "    Args:\n",
    "        nn (torch): neural network module\n",
    "    \"\"\"\n",
    "    def __init__(self, n_heads, embed_dim):\n",
    "        super(MultiHeadAttention, self).__init__()\n",
    "        self.n_heads = n_heads\n",
    "        self.embed_dim = embed_dim\n",
    "        self.linear_w0 = nn.Linear(embed_dim, embed_dim)\n",
    "    \n",
    "    def forward(self, query, key, value):\n",
    "        query = query.view(-1, self.n_heads, int(self.embed_dim / self.n_heads)).transpose(1,2)\n",
    "        key = key.view(-1, self.n_heads, int(self.embed_dim / self.n_heads)).transpose(1,2)\n",
    "        value = value.view(-1, self.n_heads, int(self.embed_dim / self.n_heads)).transpose(1,2)\n",
    "\n",
    "        z, _ = attention(query, key, value)\n",
    "        z = z.transpose(1, 2).contiguous().view(n_tokens, -1)\n",
    "        z = linear_w0(z)\n",
    "        \n",
    "        return z\n"
   ]
  },
  {
   "cell_type": "code",
   "execution_count": 11,
   "metadata": {},
   "outputs": [
    {
     "data": {
      "text/plain": [
       "MultiHeadAttention(\n",
       "  (linear_w0): Linear(in_features=768, out_features=768, bias=True)\n",
       ")"
      ]
     },
     "execution_count": 11,
     "metadata": {},
     "output_type": "execute_result"
    }
   ],
   "source": [
    "n_heads = 12\n",
    "mha = MultiHeadAttention(n_heads = n_heads, embed_dim = embed_dim)\n",
    "mha"
   ]
  },
  {
   "cell_type": "code",
   "execution_count": 14,
   "metadata": {},
   "outputs": [
    {
     "data": {
      "text/plain": [
       "torch.Size([3, 768])"
      ]
     },
     "execution_count": 14,
     "metadata": {},
     "output_type": "execute_result"
    }
   ],
   "source": [
    "z_module = mha(query, key, value)\n",
    "z_module.shape"
   ]
  },
  {
   "cell_type": "code",
   "execution_count": null,
   "metadata": {},
   "outputs": [],
   "source": []
  }
 ],
 "metadata": {
  "kernelspec": {
   "display_name": "Python 3.8.13 ('gpu')",
   "language": "python",
   "name": "python3"
  },
  "language_info": {
   "codemirror_mode": {
    "name": "ipython",
    "version": 3
   },
   "file_extension": ".py",
   "mimetype": "text/x-python",
   "name": "python",
   "nbconvert_exporter": "python",
   "pygments_lexer": "ipython3",
   "version": "3.8.13"
  },
  "orig_nbformat": 4,
  "vscode": {
   "interpreter": {
    "hash": "82504ee5e1dd41d1b2ba4f67dfedcb88a0d45484ec9af62eda8250aa09e1feb3"
   }
  }
 },
 "nbformat": 4,
 "nbformat_minor": 2
}
