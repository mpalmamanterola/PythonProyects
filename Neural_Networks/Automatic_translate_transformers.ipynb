{
 "cells": [
  {
   "cell_type": "code",
   "execution_count": 1,
   "id": "c83ef70f-c8a2-42c9-8fb0-577f82ee3927",
   "metadata": {
    "executionInfo": {
     "elapsed": 3155,
     "status": "ok",
     "timestamp": 1654212626689,
     "user": {
      "displayName": "MATIAS ALFONSO PALMA MANTEROLA",
      "userId": "11730898500476813827"
     },
     "user_tz": 240
    },
    "id": "c83ef70f-c8a2-42c9-8fb0-577f82ee3927"
   },
   "outputs": [],
   "source": [
    "import tensorflow as tf\n",
    "from tensorflow import keras\n",
    "from tensorflow.keras import layers"
   ]
  },
  {
   "cell_type": "code",
   "execution_count": 2,
   "id": "929aab9f-63d4-4d49-bbe6-03efefba925f",
   "metadata": {
    "executionInfo": {
     "elapsed": 4,
     "status": "ok",
     "timestamp": 1654212626689,
     "user": {
      "displayName": "MATIAS ALFONSO PALMA MANTEROLA",
      "userId": "11730898500476813827"
     },
     "user_tz": 240
    },
    "id": "929aab9f-63d4-4d49-bbe6-03efefba925f"
   },
   "outputs": [],
   "source": [
    "class TransformerBlock(layers.Layer):\n",
    "    def __init__(self, embed_dim, num_heads, ff_dim, rate=0.1):\n",
    "        super(TransformerBlock, self).__init__()\n",
    "        self.att = layers.MultiHeadAttention(num_heads=num_heads, key_dim=embed_dim)\n",
    "        self.ffn = keras.Sequential([layers.Dense(ff_dim, activation = \"relu\"), layers.Dense(embed_dim),])\n",
    "        self.layernorm1 = layers.LayerNormalization(epsilon=1e-6)\n",
    "        self.layernorm2 = layers.LayerNormalization(epsilon=1e-6)\n",
    "        self.dropout1 = layers.Dropout(rate)\n",
    "        self.dropout2 = layers.Dropout(rate)\n",
    "\n",
    "    def call(self, inputs, training=False):\n",
    "        attn_output = self.att(inputs, inputs, inputs)\n",
    "        attn_output = self.dropout1(attn_output, training = training)\n",
    "        out1 = self.layernorm1(inputs + attn_output)\n",
    "        ffn_output = self.ffn(out1)\n",
    "        ffn_output = self.dropout2(ffn_output, training = training)\n",
    "        return self.layernorm2(out1 + ffn_output)\n",
    "\n",
    "class TokenAndPositionEmbedding(layers.Layer):\n",
    "    def __init__(self, maxlen, vocab_size, embed_dim):\n",
    "        super(TokenAndPositionEmbedding, self).__init__()\n",
    "        self.token_emb = layers.Embedding(input_dim=vocab_size, output_dim=embed_dim)\n",
    "        self.pos_emb = layers.Embedding(input_dim=maxlen, output_dim=embed_dim)\n",
    "\n",
    "    def call(self, x):\n",
    "        maxlen = tf.shape(x)[-1]\n",
    "        positions = tf.range(start=0, limit=maxlen, delta=1)\n",
    "        positions = self.pos_emb(positions)\n",
    "        x = self.token_emb(x)\n",
    "        return x + positions"
   ]
  },
  {
   "cell_type": "code",
   "execution_count": 3,
   "id": "b6f5033f-03c1-459f-8e61-18695f3bdc63",
   "metadata": {
    "executionInfo": {
     "elapsed": 5,
     "status": "ok",
     "timestamp": 1654212626690,
     "user": {
      "displayName": "MATIAS ALFONSO PALMA MANTEROLA",
      "userId": "11730898500476813827"
     },
     "user_tz": 240
    },
    "id": "b6f5033f-03c1-459f-8e61-18695f3bdc63"
   },
   "outputs": [],
   "source": [
    "class Encoder(layers.Layer):\n",
    "    def __init__(self, embed_dim, num_layers, num_heads, ff_dim, rate =0.1):\n",
    "        super(Encoder, self).__init__()\n",
    "        self.embed_dim = embed_dim\n",
    "        self.num_heads = num_heads\n",
    "        self.ff_dim = ff_dim\n",
    "        self.transformer_layers = [TransformerBlock(embed_dim,\n",
    "                                                    num_heads,\n",
    "                                                    rate = rate,\n",
    "                                                    ff_dim = ff_dim) for _ in range(num_layers)]\n",
    "    def call(self, x):\n",
    "        inputs = x\n",
    "        for layer in self.transformer_layers:\n",
    "            out = layer(inputs)\n",
    "            inputs = out \n",
    "        return out"
   ]
  },
  {
   "cell_type": "code",
   "execution_count": 4,
   "id": "bd979b41-5454-45ba-a724-853c2ee927ce",
   "metadata": {
    "executionInfo": {
     "elapsed": 4,
     "status": "ok",
     "timestamp": 1654212626690,
     "user": {
      "displayName": "MATIAS ALFONSO PALMA MANTEROLA",
      "userId": "11730898500476813827"
     },
     "user_tz": 240
    },
    "id": "bd979b41-5454-45ba-a724-853c2ee927ce"
   },
   "outputs": [],
   "source": [
    "class Decoder(layers.Layer):\n",
    "    def __init__(self, embed_dim, num_layers, num_heads, ff_dim, rate=0.1):\n",
    "        super(Decoder, self).__init__()\n",
    "        self.embed_dim = embed_dim\n",
    "        self.ff_dim = ff_dim\n",
    "        self.num_layers = num_layers\n",
    "        self.num_heads = num_heads\n",
    "        self.attention_1 = layers.MultiHeadAttention(num_heads=num_heads,\n",
    "                                                     key_dim=embed_dim)\n",
    "        self.attention_2 = layers.MultiHeadAttention(num_heads=num_heads,\n",
    "                                                     key_dim=embed_dim)\n",
    "        self.dense_proj = keras.Sequential([layers.Dense(ff_dim, activation=\"relu\"),\n",
    "                                            layers.Dense(embed_dim),])\n",
    "        self.layernorm_1 = layers.LayerNormalization()\n",
    "        self.layernorm_2 = layers.LayerNormalization()\n",
    "        self.layernorm_3 = layers.LayerNormalization()\n",
    "        self.supports_masking = True\n",
    "\n",
    "    def get_causal_attention_mask(self, inputs):\n",
    "        input_shape = tf.shape(inputs)\n",
    "        batch_size, sequence_length = input_shape[0], input_shape[1]\n",
    "        i = tf.range(sequence_length)[:, tf.newaxis]\n",
    "        j = tf.range(sequence_length)\n",
    "        mask = tf.cast(i >= j, dtype=\"int32\")\n",
    "        mask = tf.reshape(mask, (1, input_shape[1], input_shape[1]))\n",
    "        mult = tf.concat([tf.expand_dims(batch_size, -1), \n",
    "                          tf.constant([1, 1], dtype=tf.int32)],\n",
    "                          axis=0,)\n",
    "        return tf.tile(mask, mult)\n",
    "\n",
    "    def call(self, inputs, encoder_outputs, mask=None):\n",
    "        for _ in range(num_layers):\n",
    "            casual_mask = self.get_causal_attention_mask(inputs)\n",
    "            \n",
    "            if mask is not None:\n",
    "                padding_mask = tf.cast(mask[:, tf.newaxis, :], dtype=\"int32\")\n",
    "                padding_mask = tf.minimum(padding_mask, casual_mask)\n",
    "            \n",
    "            else:\n",
    "                padding_mask = None\n",
    "            attention_output_1 = self.attention_1(query = inputs,\n",
    "                                                  value = inputs,\n",
    "                                                  key = inputs, \n",
    "                                                  attention_mask=casual_mask)\n",
    "            \n",
    "            out_1 = self.layernorm_1(inputs + attention_output_1)\n",
    "\n",
    "            attention_output_2 = self.attention_2(query = out_1,\n",
    "                                                  value = encoder_outputs,\n",
    "                                                  key = encoder_outputs,\n",
    "                                                  attention_mask = padding_mask,)\n",
    "            \n",
    "            out_2 = self.layernorm_2(out_1 + attention_output_2)\n",
    "\n",
    "            proj_output = self.dense_proj(out_2)\n",
    "            out = self.layernorm_3(out_2 + proj_output)\n",
    "            inputs = out\n",
    "        return out"
   ]
  },
  {
   "cell_type": "code",
   "execution_count": 5,
   "id": "2ae51dd4-0b79-4b9d-9352-5d284ee8f78c",
   "metadata": {
    "executionInfo": {
     "elapsed": 5745,
     "status": "ok",
     "timestamp": 1654212632431,
     "user": {
      "displayName": "MATIAS ALFONSO PALMA MANTEROLA",
      "userId": "11730898500476813827"
     },
     "user_tz": 240
    },
    "id": "2ae51dd4-0b79-4b9d-9352-5d284ee8f78c"
   },
   "outputs": [],
   "source": [
    "import pandas as pd\n",
    "import numpy as np\n",
    "\n",
    "dataset = pd.read_csv('eng-spa.txt', sep='\\t', header=None)\n",
    "dataset = dataset.iloc[:,0:2]\n",
    "\n",
    "source_tokens = []\n",
    "for sentence in dataset.iloc[:,0]:\n",
    "    source_tokens.append(sentence.lower().split(' '))\n",
    "\n",
    "target_tokens = []\n",
    "for sentence in dataset.iloc[:,1]:\n",
    "    target_tokens.append(sentence.lower().split(' '))\n",
    "    \n",
    "def build_token_dict(token_list):\n",
    "    token_dict = {'<TOKEN_NULO>': 0,'<TOKEN_INICIO>': 1,'<TOKEN_FIN>': 2}\n",
    "    for tokens in token_list:\n",
    "        for token in tokens:\n",
    "            if token not in token_dict:\n",
    "                token_dict[token] = len(token_dict)\n",
    "    return token_dict\n",
    "\n",
    "\n",
    "source_token_dict = build_token_dict(source_tokens)\n",
    "target_token_dict = build_token_dict(target_tokens)\n",
    "\n",
    "\n",
    "# DICCIONARIO PARA LA TRADUCCIÓN (para programa que genera la traducción): de número a token\n",
    "target_token_dict_inv = {v:k for k,v in target_token_dict.items()}\n",
    "source_token_dict_inv = {v:k for k,v in source_token_dict.items()}\n",
    "\n",
    "# Agregar inicio, fin y vacío a cada frase\n",
    "# Corpus Inglés + inicio-fin\n",
    "encoder_tokens = [['<TOKEN_INICIO>'] + tokens + ['<TOKEN_FIN>'] for tokens in source_tokens]\n",
    "# Corpus Español + inicio-fin\n",
    "decoder_tokens = [['<TOKEN_INICIO>'] + tokens + ['<TOKEN_FIN>'] for tokens in target_tokens]\n",
    "# Corpus como debería ser la salida + fin (para la salida del modelo)\n",
    "output_tokens = [tokens + ['<TOKEN_FIN>'] for tokens in target_tokens]\n",
    "\n",
    "source_max_len = max(map(len, encoder_tokens))\n",
    "target_max_len = max(map(len, decoder_tokens))\n",
    "\n",
    "max_len = max(source_max_len,target_max_len)\n",
    "\n",
    "encoder_tokens = [tokens + ['<TOKEN_NULO>']*(max_len-len(tokens)) for tokens in encoder_tokens]\n",
    "decoder_tokens = [tokens + ['<TOKEN_NULO>']*(max_len-len(tokens)) for tokens in decoder_tokens]\n",
    "output_tokens = [tokens + ['<TOKEN_NULO>']*(max_len-len(tokens)) for tokens in output_tokens ]\n",
    "\n",
    "encoder_input = [list(map(lambda x: source_token_dict[x], tokens)) for tokens in encoder_tokens]\n",
    "decoder_input = [list(map(lambda x: target_token_dict[x], tokens)) for tokens in decoder_tokens]\n",
    "output_decoder = [list(map(lambda x: target_token_dict[x], tokens)) for tokens in output_tokens]\n",
    "\n",
    "# ENTRADAS\n",
    "x1 = np.array(encoder_input)#astype('float32')\n",
    "x2 = np.array(decoder_input)#.astype('float32')\n",
    "\n",
    "# SALIDA\n",
    "y = np.array(output_decoder)#.astype('float32')"
   ]
  },
  {
   "cell_type": "code",
   "execution_count": 6,
   "id": "78670f10-0e4a-41bf-b2b8-8e297ad982f2",
   "metadata": {
    "executionInfo": {
     "elapsed": 18,
     "status": "ok",
     "timestamp": 1654212632432,
     "user": {
      "displayName": "MATIAS ALFONSO PALMA MANTEROLA",
      "userId": "11730898500476813827"
     },
     "user_tz": 240
    },
    "id": "78670f10-0e4a-41bf-b2b8-8e297ad982f2"
   },
   "outputs": [],
   "source": [
    "from sklearn.model_selection import train_test_split\n",
    "z = [1, 2, 3, 4, 5]\n",
    "x = [2, 4, 6, 8, 10]\n",
    "yp = [-3, 1, -2, -1, 0]\n",
    "ztr, zte, yt1, yte1 = train_test_split(z, yp, random_state=73)\n",
    "xtr, xte, yt2, yte2 = train_test_split(x, yp, random_state=73)"
   ]
  },
  {
   "cell_type": "code",
   "execution_count": 7,
   "id": "f7892be2-d5fb-4b12-a8ee-0b8abd7a61b5",
   "metadata": {
    "colab": {
     "base_uri": "https://localhost:8080/"
    },
    "executionInfo": {
     "elapsed": 18,
     "status": "ok",
     "timestamp": 1654212632433,
     "user": {
      "displayName": "MATIAS ALFONSO PALMA MANTEROLA",
      "userId": "11730898500476813827"
     },
     "user_tz": 240
    },
    "id": "f7892be2-d5fb-4b12-a8ee-0b8abd7a61b5",
    "outputId": "d1dc9845-9e39-4387-ef34-a2fc1feb722c"
   },
   "outputs": [
    {
     "data": {
      "text/plain": [
       "(True, True)"
      ]
     },
     "execution_count": 7,
     "metadata": {},
     "output_type": "execute_result"
    }
   ],
   "source": [
    "yt1 == yt2, yte1 == yte2"
   ]
  },
  {
   "cell_type": "code",
   "execution_count": 8,
   "id": "31043624-6a7d-4fec-b1ab-b05d489f767d",
   "metadata": {
    "executionInfo": {
     "elapsed": 375,
     "status": "ok",
     "timestamp": 1654212632803,
     "user": {
      "displayName": "MATIAS ALFONSO PALMA MANTEROLA",
      "userId": "11730898500476813827"
     },
     "user_tz": 240
    },
    "id": "31043624-6a7d-4fec-b1ab-b05d489f767d"
   },
   "outputs": [],
   "source": [
    "x1_train, x1_test, y_train, y_test = train_test_split(x1, y, train_size = 0.7, random_state = 73)\n",
    "x2_train, x2_test, y_train, y_test = train_test_split(x2, y, train_size = 0.7, random_state = 73)"
   ]
  },
  {
   "cell_type": "code",
   "execution_count": 9,
   "id": "af5d0b18-3587-4b64-9386-c44d4ae73746",
   "metadata": {
    "colab": {
     "base_uri": "https://localhost:8080/"
    },
    "executionInfo": {
     "elapsed": 5,
     "status": "ok",
     "timestamp": 1654212632804,
     "user": {
      "displayName": "MATIAS ALFONSO PALMA MANTEROLA",
      "userId": "11730898500476813827"
     },
     "user_tz": 240
    },
    "id": "af5d0b18-3587-4b64-9386-c44d4ae73746",
    "outputId": "dc1e6b28-3a5b-4906-91db-04ac733cd7da"
   },
   "outputs": [
    {
     "data": {
      "text/plain": [
       "29638"
      ]
     },
     "execution_count": 9,
     "metadata": {},
     "output_type": "execute_result"
    }
   ],
   "source": [
    "len(target_token_dict)"
   ]
  },
  {
   "cell_type": "code",
   "execution_count": 31,
   "id": "2dc92dca-e9c3-4099-b628-8aab400968a7",
   "metadata": {
    "colab": {
     "base_uri": "https://localhost:8080/"
    },
    "executionInfo": {
     "elapsed": 3509,
     "status": "ok",
     "timestamp": 1654213551035,
     "user": {
      "displayName": "MATIAS ALFONSO PALMA MANTEROLA",
      "userId": "11730898500476813827"
     },
     "user_tz": 240
    },
    "id": "2dc92dca-e9c3-4099-b628-8aab400968a7",
    "outputId": "b29ed410-2753-4c49-91fc-7914c8f88a57"
   },
   "outputs": [
    {
     "name": "stdout",
     "output_type": "stream",
     "text": [
      "Model: \"transformer\"\n",
      "__________________________________________________________________________________________________\n",
      " Layer (type)                   Output Shape         Param #     Connected to                     \n",
      "==================================================================================================\n",
      " encoder_inputs (InputLayer)    [(None, 17)]         0           []                               \n",
      "                                                                                                  \n",
      " token_and_position_embedding_4  (None, 17, 256)     4273664     ['encoder_inputs[0][0]']         \n",
      "  (TokenAndPositionEmbedding)                                                                     \n",
      "                                                                                                  \n",
      " decoder_inputs (InputLayer)    [(None, 17)]         0           []                               \n",
      "                                                                                                  \n",
      " encoder_2 (Encoder)            (None, 17, 256)      5262336     ['token_and_position_embedding_4[\n",
      "                                                                 0][0]']                          \n",
      "                                                                                                  \n",
      " model_4 (Functional)           (None, 17, 29638)    17313734    ['decoder_inputs[0][0]',         \n",
      "                                                                  'encoder_2[0][0]']              \n",
      "                                                                                                  \n",
      "==================================================================================================\n",
      "Total params: 26,849,734\n",
      "Trainable params: 26,849,734\n",
      "Non-trainable params: 0\n",
      "__________________________________________________________________________________________________\n"
     ]
    }
   ],
   "source": [
    "#HYPERMARAMETERS\n",
    "batch_size = 64\n",
    "epochs = 5\n",
    "embed_dim = 256\n",
    "num_layers = 4\n",
    "num_heads = 3\n",
    "ff_dim = 1024\n",
    "\n",
    "\n",
    "source_vocab_size = len(source_token_dict)\n",
    "target_vocab_size = len(target_token_dict)\n",
    "encoder_input = decoder_input = max_len\n",
    "\n",
    "#MODEL\n",
    "\n",
    "encoder_inputs = keras.Input(shape=(max_len, ), dtype=\"int32\", name=\"encoder_inputs\")\n",
    "\n",
    "x = TokenAndPositionEmbedding(max_len, source_vocab_size, embed_dim)(encoder_inputs)\n",
    "encoder_outputs = Encoder(embed_dim = embed_dim,\n",
    "                          num_layers = num_layers,\n",
    "                          num_heads = num_heads,\n",
    "                          ff_dim = ff_dim\n",
    "                          )(x)\n",
    "\n",
    "encoder = keras.Model(encoder_inputs, encoder_outputs)\n",
    "\n",
    "decoder_inputs = keras.Input(shape=(max_len,), dtype=\"int32\", name=\"decoder_inputs\")\n",
    "\n",
    "encoded_seq_inputs = keras.Input(shape=(max_len, embed_dim, ), dtype=\"float32\",name=\"decoder_state_inputs\")\n",
    "\n",
    "x = TokenAndPositionEmbedding(max_len, target_vocab_size, embed_dim)(decoder_inputs)\n",
    "x = Decoder(embed_dim = embed_dim, \n",
    "            num_layers = num_layers,\n",
    "            num_heads = num_heads, \n",
    "            ff_dim = ff_dim\n",
    "            )(x, encoded_seq_inputs)\n",
    "\n",
    "x = layers.Dropout(0.1)(x)\n",
    "\n",
    "decoder_outputs = layers.Dense(target_vocab_size, activation=\"softmax\")(x)\n",
    "decoder = keras.Model([decoder_inputs, encoded_seq_inputs], decoder_outputs)\n",
    "\n",
    "decoder_outputs = decoder([decoder_inputs, encoder_outputs])\n",
    "\n",
    "transformer = keras.Model(inputs = [encoder_inputs, decoder_inputs], \n",
    "                          outputs = decoder_outputs,\n",
    "                          name = \"transformer\")\n",
    "transformer.summary()"
   ]
  },
  {
   "cell_type": "code",
   "execution_count": 11,
   "id": "909efb34-1f0e-42e4-8ead-87610bb82cd3",
   "metadata": {
    "colab": {
     "base_uri": "https://localhost:8080/"
    },
    "executionInfo": {
     "elapsed": 697356,
     "status": "ok",
     "timestamp": 1654213336044,
     "user": {
      "displayName": "MATIAS ALFONSO PALMA MANTEROLA",
      "userId": "11730898500476813827"
     },
     "user_tz": 240
    },
    "id": "909efb34-1f0e-42e4-8ead-87610bb82cd3",
    "outputId": "812e01fd-81de-4cac-9816-786f5cba7f5b"
   },
   "outputs": [
    {
     "name": "stdout",
     "output_type": "stream",
     "text": [
      "Epoch 1/5\n",
      "922/922 [==============================] - 147s 143ms/step - loss: 2.9103 - accuracy: 0.7110 - val_loss: 1.7537 - val_accuracy: 0.7664 - lr: 1.0000e-04\n",
      "Epoch 2/5\n",
      "922/922 [==============================] - 129s 140ms/step - loss: 1.5259 - accuracy: 0.7898 - val_loss: 1.3921 - val_accuracy: 0.8078 - lr: 1.0000e-04\n",
      "Epoch 3/5\n",
      "922/922 [==============================] - 130s 141ms/step - loss: 1.2306 - accuracy: 0.8220 - val_loss: 1.2031 - val_accuracy: 0.8283 - lr: 1.0000e-04\n",
      "Epoch 4/5\n",
      "922/922 [==============================] - 129s 140ms/step - loss: 1.0310 - accuracy: 0.8456 - val_loss: 1.0741 - val_accuracy: 0.8465 - lr: 1.0000e-04\n",
      "Epoch 5/5\n",
      "922/922 [==============================] - 129s 140ms/step - loss: 0.8769 - accuracy: 0.8658 - val_loss: 0.9863 - val_accuracy: 0.8585 - lr: 1.0000e-04\n",
      "CPU times: user 6min 41s, sys: 26.4 s, total: 7min 8s\n",
      "Wall time: 11min 36s\n"
     ]
    }
   ],
   "source": [
    "%%time\n",
    "from tensorflow.keras.callbacks import LearningRateScheduler\n",
    "import math\n",
    "\n",
    "def step_decay(epoch):\n",
    "   lrate = 1e-4\n",
    "   return lrate\n",
    "\n",
    "#optimizer = tf.keras.optimizers.Adam(learning_rate = CustomSchedule(embed_dim, 1e-2),\n",
    "#                                      name='Adam')\n",
    "callbacks = [LearningRateScheduler(step_decay)]\n",
    "transformer.compile(optimizer=\"adam\",\n",
    "                    loss=\"sparse_categorical_crossentropy\", \n",
    "                    metrics=[\"accuracy\"])\n",
    "\n",
    "history = transformer.fit([x1_train, x2_train], y_train, \n",
    "                          batch_size = batch_size, \n",
    "                          epochs = epochs, \n",
    "                          validation_data = [[x1_test, x2_test], y_test],\n",
    "                          callbacks = callbacks)"
   ]
  },
  {
   "cell_type": "code",
   "execution_count": 13,
   "id": "4ptPdccA1lgV",
   "metadata": {
    "colab": {
     "base_uri": "https://localhost:8080/",
     "height": 314
    },
    "executionInfo": {
     "elapsed": 15,
     "status": "ok",
     "timestamp": 1654213336045,
     "user": {
      "displayName": "MATIAS ALFONSO PALMA MANTEROLA",
      "userId": "11730898500476813827"
     },
     "user_tz": 240
    },
    "id": "4ptPdccA1lgV",
    "outputId": "f497794a-8b7d-4af3-eeaa-295e88928ca2"
   },
   "outputs": [
    {
     "data": {
      "text/plain": [
       "<matplotlib.legend.Legend at 0x7f4ef67e4210>"
      ]
     },
     "execution_count": 13,
     "metadata": {},
     "output_type": "execute_result"
    },
    {
     "data": {
      "image/png": "[encoded data removed]",
      "text/plain": [
       "<Figure size 432x288 with 1 Axes>"
      ]
     },
     "metadata": {
      "needs_background": "light"
     },
     "output_type": "display_data"
    }
   ],
   "source": [
    "plt.plot(history.history[\"loss\"], label=\"Loss Train\")\n",
    "plt.plot(history.history[\"val_loss\"], label=\"Loss Test\")\n",
    "\n",
    "plt.title('Transformer')\n",
    "plt.ylabel('Métricas')\n",
    "plt.xlabel('Epocas')\n",
    "plt.legend(loc='best')"
   ]
  },
  {
   "cell_type": "code",
   "execution_count": 14,
   "id": "eTc8GFbByexu",
   "metadata": {
    "executionInfo": {
     "elapsed": 11,
     "status": "ok",
     "timestamp": 1654213336046,
     "user": {
      "displayName": "MATIAS ALFONSO PALMA MANTEROLA",
      "userId": "11730898500476813827"
     },
     "user_tz": 240
    },
    "id": "eTc8GFbByexu"
   },
   "outputs": [],
   "source": [
    "def translate(input_sentence):\n",
    "    if type(input_sentence) != str:\n",
    "        return TypeError(\"input_sentence must be a str\")\n",
    "    else:\n",
    "        # Se construye la tokenización del input\n",
    "        input_sentence = input_sentence.split()\n",
    "        tokenized_input_sentence = [source_token_dict_inv[1]]\n",
    "        \n",
    "        for i in range(len(input_sentence)):\n",
    "            tokenized_input_sentence.append(input_sentence[i])\n",
    "\n",
    "        tokenized_input_sentence = tokenized_input_sentence + ['<TOKEN_NULO>']*(max_len-len(tokenized_input_sentence))\n",
    "        tokenized_input_sentence[len(input_sentence)+1] = source_token_dict_inv[2]\n",
    "        tokenized_input_sentence = [source_token_dict[word] for word in tokenized_input_sentence]\n",
    "        #Se construye la tokenización de la predicción\n",
    "        decoded_sentence = target_token_dict_inv[1]\n",
    "        for i in range(max_len):\n",
    "            tokenized_target_sentence = decoded_sentence.split() + ['<TOKEN_NULO>']*(max_len-len(decoded_sentence.split()))\n",
    "            tokenized_target_sentence = [target_token_dict[word] for word in tokenized_target_sentence]\n",
    "            predictions = transformer([np.array([tokenized_input_sentence]),\n",
    "                                       np.array([tokenized_target_sentence])])\n",
    "            sampled_token_index = np.argmax(predictions[0][i])\n",
    "            sampled_token = target_token_dict_inv[sampled_token_index]\n",
    "            decoded_sentence += \" \" + sampled_token\n",
    "            if sampled_token == target_token_dict_inv[2]:\n",
    "                return(decoded_sentence)\n",
    "        return(decoded_sentence)"
   ]
  },
  {
   "cell_type": "code",
   "execution_count": 15,
   "id": "uPEEvwmDzRtF",
   "metadata": {
    "colab": {
     "base_uri": "https://localhost:8080/",
     "height": 37
    },
    "executionInfo": {
     "elapsed": 611,
     "status": "ok",
     "timestamp": 1654213336647,
     "user": {
      "displayName": "MATIAS ALFONSO PALMA MANTEROLA",
      "userId": "11730898500476813827"
     },
     "user_tz": 240
    },
    "id": "uPEEvwmDzRtF",
    "outputId": "edd54bdf-4ed4-44eb-fec5-fce8a45fe980"
   },
   "outputs": [
    {
     "data": {
      "application/vnd.google.colaboratory.intrinsic+json": {
       "type": "string"
      },
      "text/plain": [
       "'<TOKEN_INICIO> el mundo está en el banco. <TOKEN_FIN>'"
      ]
     },
     "execution_count": 15,
     "metadata": {},
     "output_type": "execute_result"
    }
   ],
   "source": [
    "translate(\"the world is in danger\")"
   ]
  },
  {
   "cell_type": "code",
   "execution_count": 16,
   "id": "c7ae308a-4d15-4237-9cc2-e31bed6ffb04",
   "metadata": {
    "colab": {
     "base_uri": "https://localhost:8080/",
     "height": 37
    },
    "executionInfo": {
     "elapsed": 11,
     "status": "ok",
     "timestamp": 1654213336648,
     "user": {
      "displayName": "MATIAS ALFONSO PALMA MANTEROLA",
      "userId": "11730898500476813827"
     },
     "user_tz": 240
    },
    "id": "c7ae308a-4d15-4237-9cc2-e31bed6ffb04",
    "outputId": "bf568e52-3460-48bc-9ccc-fe92be7e36b8"
   },
   "outputs": [
    {
     "data": {
      "application/vnd.google.colaboratory.intrinsic+json": {
       "type": "string"
      },
      "text/plain": [
       "'<TOKEN_INICIO> tom es una vez. <TOKEN_FIN>'"
      ]
     },
     "execution_count": 16,
     "metadata": {},
     "output_type": "execute_result"
    }
   ],
   "source": [
    "translate(\"tom\")"
   ]
  },
  {
   "cell_type": "code",
   "execution_count": 17,
   "id": "1QwfPFMUsotY",
   "metadata": {
    "colab": {
     "base_uri": "https://localhost:8080/",
     "height": 37
    },
    "executionInfo": {
     "elapsed": 371,
     "status": "ok",
     "timestamp": 1654213337010,
     "user": {
      "displayName": "MATIAS ALFONSO PALMA MANTEROLA",
      "userId": "11730898500476813827"
     },
     "user_tz": 240
    },
    "id": "1QwfPFMUsotY",
    "outputId": "db1e4b54-3ca7-4047-c551-bed00a176fe5"
   },
   "outputs": [
    {
     "data": {
      "application/vnd.google.colaboratory.intrinsic+json": {
       "type": "string"
      },
      "text/plain": [
       "'<TOKEN_INICIO> el juego está en el banco. <TOKEN_FIN>'"
      ]
     },
     "execution_count": 17,
     "metadata": {},
     "output_type": "execute_result"
    }
   ],
   "source": [
    "translate(\"the game is in danger\")"
   ]
  },
  {
   "cell_type": "code",
   "execution_count": 18,
   "id": "6rKECsF5sqyg",
   "metadata": {
    "colab": {
     "base_uri": "https://localhost:8080/",
     "height": 37
    },
    "executionInfo": {
     "elapsed": 926,
     "status": "ok",
     "timestamp": 1654213337932,
     "user": {
      "displayName": "MATIAS ALFONSO PALMA MANTEROLA",
      "userId": "11730898500476813827"
     },
     "user_tz": 240
    },
    "id": "6rKECsF5sqyg",
    "outputId": "aab193c8-de60-47a0-8e7b-f7c07c2e4fbf"
   },
   "outputs": [
    {
     "data": {
      "application/vnd.google.colaboratory.intrinsic+json": {
       "type": "string"
      },
      "text/plain": [
       "'<TOKEN_INICIO> ¿qué hizo eso hoy? <TOKEN_FIN>'"
      ]
     },
     "execution_count": 18,
     "metadata": {},
     "output_type": "execute_result"
    }
   ],
   "source": [
    "translate(\"what did she do today?\")"
   ]
  },
  {
   "cell_type": "code",
   "execution_count": 19,
   "id": "kO2AR61hc0XV",
   "metadata": {
    "colab": {
     "base_uri": "https://localhost:8080/",
     "height": 37
    },
    "executionInfo": {
     "elapsed": 691,
     "status": "ok",
     "timestamp": 1654213338621,
     "user": {
      "displayName": "MATIAS ALFONSO PALMA MANTEROLA",
      "userId": "11730898500476813827"
     },
     "user_tz": 240
    },
    "id": "kO2AR61hc0XV",
    "outputId": "d3aa91ac-d7b1-44ea-8614-5592ca44f970"
   },
   "outputs": [
    {
     "data": {
      "application/vnd.google.colaboratory.intrinsic+json": {
       "type": "string"
      },
      "text/plain": [
       "'<TOKEN_INICIO> no dejes que te va a ti mismo. <TOKEN_FIN>'"
      ]
     },
     "execution_count": 19,
     "metadata": {},
     "output_type": "execute_result"
    }
   ],
   "source": [
    "translate(\"don't let them fool you\")"
   ]
  },
  {
   "cell_type": "code",
   "execution_count": 20,
   "id": "OPZZpFNnc8Fd",
   "metadata": {
    "colab": {
     "base_uri": "https://localhost:8080/",
     "height": 37
    },
    "executionInfo": {
     "elapsed": 448,
     "status": "ok",
     "timestamp": 1654213339063,
     "user": {
      "displayName": "MATIAS ALFONSO PALMA MANTEROLA",
      "userId": "11730898500476813827"
     },
     "user_tz": 240
    },
    "id": "OPZZpFNnc8Fd",
    "outputId": "d42f640f-d63b-4ec8-e69f-808f11e8f2cd"
   },
   "outputs": [
    {
     "data": {
      "application/vnd.google.colaboratory.intrinsic+json": {
       "type": "string"
      },
      "text/plain": [
       "'<TOKEN_INICIO> su discurso se quedó al árbol. <TOKEN_FIN>'"
      ]
     },
     "execution_count": 20,
     "metadata": {},
     "output_type": "execute_result"
    }
   ],
   "source": [
    "translate(\"her speech moved the audience\")"
   ]
  },
  {
   "cell_type": "code",
   "execution_count": 21,
   "id": "-pNy2DIZdAAO",
   "metadata": {
    "colab": {
     "base_uri": "https://localhost:8080/",
     "height": 37
    },
    "executionInfo": {
     "elapsed": 893,
     "status": "ok",
     "timestamp": 1654213339953,
     "user": {
      "displayName": "MATIAS ALFONSO PALMA MANTEROLA",
      "userId": "11730898500476813827"
     },
     "user_tz": 240
    },
    "id": "-pNy2DIZdAAO",
    "outputId": "91f559fc-6a3b-42ab-edbc-a9b35c3a44c2"
   },
   "outputs": [
    {
     "data": {
      "application/vnd.google.colaboratory.intrinsic+json": {
       "type": "string"
      },
      "text/plain": [
       "'<TOKEN_INICIO> a casa de casa. <TOKEN_FIN>'"
      ]
     },
     "execution_count": 21,
     "metadata": {},
     "output_type": "execute_result"
    }
   ],
   "source": [
    "translate(\"home\")"
   ]
  },
  {
   "cell_type": "code",
   "execution_count": 22,
   "id": "1K4XpgxJdDKO",
   "metadata": {
    "colab": {
     "base_uri": "https://localhost:8080/",
     "height": 37
    },
    "executionInfo": {
     "elapsed": 478,
     "status": "ok",
     "timestamp": 1654213340429,
     "user": {
      "displayName": "MATIAS ALFONSO PALMA MANTEROLA",
      "userId": "11730898500476813827"
     },
     "user_tz": 240
    },
    "id": "1K4XpgxJdDKO",
    "outputId": "753b7e49-bde5-4303-dd0b-faa23cd82de8"
   },
   "outputs": [
    {
     "data": {
      "application/vnd.google.colaboratory.intrinsic+json": {
       "type": "string"
      },
      "text/plain": [
       "'<TOKEN_INICIO> lleva en la pared. <TOKEN_FIN>'"
      ]
     },
     "execution_count": 22,
     "metadata": {},
     "output_type": "execute_result"
    }
   ],
   "source": [
    "translate(\"sun in the beach\")"
   ]
  },
  {
   "cell_type": "code",
   "execution_count": 23,
   "id": "dK3_1CMYdI0W",
   "metadata": {
    "colab": {
     "base_uri": "https://localhost:8080/",
     "height": 37
    },
    "executionInfo": {
     "elapsed": 1128,
     "status": "ok",
     "timestamp": 1654213341553,
     "user": {
      "displayName": "MATIAS ALFONSO PALMA MANTEROLA",
      "userId": "11730898500476813827"
     },
     "user_tz": 240
    },
    "id": "dK3_1CMYdI0W",
    "outputId": "1df77000-968c-4c06-cec2-b09891853613"
   },
   "outputs": [
    {
     "data": {
      "application/vnd.google.colaboratory.intrinsic+json": {
       "type": "string"
      },
      "text/plain": [
       "'<TOKEN_INICIO> este perro es mi amigo de mi amigo. <TOKEN_FIN>'"
      ]
     },
     "execution_count": 23,
     "metadata": {},
     "output_type": "execute_result"
    }
   ],
   "source": [
    "translate(\"this dog is my friend\")"
   ]
  },
  {
   "cell_type": "code",
   "execution_count": 24,
   "id": "FYV7TUEtdNLV",
   "metadata": {
    "colab": {
     "base_uri": "https://localhost:8080/",
     "height": 37
    },
    "executionInfo": {
     "elapsed": 399,
     "status": "ok",
     "timestamp": 1654213341950,
     "user": {
      "displayName": "MATIAS ALFONSO PALMA MANTEROLA",
      "userId": "11730898500476813827"
     },
     "user_tz": 240
    },
    "id": "FYV7TUEtdNLV",
    "outputId": "a0b19618-9852-4905-bf12-0c6c3c61bd60"
   },
   "outputs": [
    {
     "data": {
      "application/vnd.google.colaboratory.intrinsic+json": {
       "type": "string"
      },
      "text/plain": [
       "'<TOKEN_INICIO> él siempre está en tiempo. <TOKEN_FIN>'"
      ]
     },
     "execution_count": 24,
     "metadata": {},
     "output_type": "execute_result"
    }
   ],
   "source": [
    "translate(\"he's always on time.\")"
   ]
  },
  {
   "cell_type": "code",
   "execution_count": 25,
   "id": "2li6nis_dZB9",
   "metadata": {
    "colab": {
     "base_uri": "https://localhost:8080/",
     "height": 37
    },
    "executionInfo": {
     "elapsed": 374,
     "status": "ok",
     "timestamp": 1654213342320,
     "user": {
      "displayName": "MATIAS ALFONSO PALMA MANTEROLA",
      "userId": "11730898500476813827"
     },
     "user_tz": 240
    },
    "id": "2li6nis_dZB9",
    "outputId": "efc9431c-af09-44d3-85a6-ea1ab36bc635"
   },
   "outputs": [
    {
     "data": {
      "application/vnd.google.colaboratory.intrinsic+json": {
       "type": "string"
      },
      "text/plain": [
       "'<TOKEN_INICIO> casi nunca he oído hoy. <TOKEN_FIN>'"
      ]
     },
     "execution_count": 25,
     "metadata": {},
     "output_type": "execute_result"
    }
   ],
   "source": [
    "translate(\"i almost never remember dreams.\")"
   ]
  },
  {
   "cell_type": "code",
   "execution_count": 26,
   "id": "iKPsD2Pwdevl",
   "metadata": {
    "colab": {
     "base_uri": "https://localhost:8080/",
     "height": 37
    },
    "executionInfo": {
     "elapsed": 258,
     "status": "ok",
     "timestamp": 1654213342575,
     "user": {
      "displayName": "MATIAS ALFONSO PALMA MANTEROLA",
      "userId": "11730898500476813827"
     },
     "user_tz": 240
    },
    "id": "iKPsD2Pwdevl",
    "outputId": "c3b6a7e3-0e60-4d99-ce99-85de9f2e3204"
   },
   "outputs": [
    {
     "data": {
      "application/vnd.google.colaboratory.intrinsic+json": {
       "type": "string"
      },
      "text/plain": [
       "'<TOKEN_INICIO> ¿sabes que ir hoy? <TOKEN_FIN>'"
      ]
     },
     "execution_count": 26,
     "metadata": {},
     "output_type": "execute_result"
    }
   ],
   "source": [
    "translate(\"do you need to leave today?\")"
   ]
  },
  {
   "cell_type": "code",
   "execution_count": 27,
   "id": "UsNwxCOqbDtg",
   "metadata": {
    "colab": {
     "base_uri": "https://localhost:8080/",
     "height": 37
    },
    "executionInfo": {
     "elapsed": 1367,
     "status": "ok",
     "timestamp": 1654213343938,
     "user": {
      "displayName": "MATIAS ALFONSO PALMA MANTEROLA",
      "userId": "11730898500476813827"
     },
     "user_tz": 240
    },
    "id": "UsNwxCOqbDtg",
    "outputId": "bf493270-f992-46cd-dc99-5e14bc47a0e5"
   },
   "outputs": [
    {
     "data": {
      "application/vnd.google.colaboratory.intrinsic+json": {
       "type": "string"
      },
      "text/plain": [
       "'<TOKEN_INICIO> tú tú tú lo que estás mintiendo. <TOKEN_FIN>'"
      ]
     },
     "execution_count": 27,
     "metadata": {},
     "output_type": "execute_result"
    }
   ],
   "source": [
    "translate(\"you reap what you sow\")"
   ]
  },
  {
   "cell_type": "code",
   "execution_count": 28,
   "id": "Wjldd0A3a1OA",
   "metadata": {
    "colab": {
     "base_uri": "https://localhost:8080/",
     "height": 37
    },
    "executionInfo": {
     "elapsed": 8,
     "status": "ok",
     "timestamp": 1654213343939,
     "user": {
      "displayName": "MATIAS ALFONSO PALMA MANTEROLA",
      "userId": "11730898500476813827"
     },
     "user_tz": 240
    },
    "id": "Wjldd0A3a1OA",
    "outputId": "a18f22f6-1e06-442c-bfb2-e16465e657fe"
   },
   "outputs": [
    {
     "data": {
      "application/vnd.google.colaboratory.intrinsic+json": {
       "type": "string"
      },
      "text/plain": [
       "'<TOKEN_INICIO> ¿te debo ir? <TOKEN_FIN>'"
      ]
     },
     "execution_count": 28,
     "metadata": {},
     "output_type": "execute_result"
    }
   ],
   "source": [
    "translate(\"should i go?\")"
   ]
  },
  {
   "cell_type": "code",
   "execution_count": 29,
   "id": "pwgJWihRbRvY",
   "metadata": {
    "colab": {
     "base_uri": "https://localhost:8080/"
    },
    "executionInfo": {
     "elapsed": 138332,
     "status": "ok",
     "timestamp": 1654213482264,
     "user": {
      "displayName": "MATIAS ALFONSO PALMA MANTEROLA",
      "userId": "11730898500476813827"
     },
     "user_tz": 240
    },
    "id": "pwgJWihRbRvY",
    "outputId": "29785eca-bea2-4862-c6f6-3c325ce55a5f",
    "tags": []
   },
   "outputs": [
    {
     "name": "stdout",
     "output_type": "stream",
     "text": [
      "you reap what you sow.\n",
      "<TOKEN_INICIO> tú no te va lo que pasó. <TOKEN_FIN>\n",
      "\n",
      "\n",
      "you need a job.\n",
      "<TOKEN_INICIO> necesitas un trabajo. <TOKEN_FIN>\n",
      "\n",
      "\n",
      "let's make it brief.\n",
      "<TOKEN_INICIO> vamos a hacer extraño. <TOKEN_FIN>\n",
      "\n",
      "\n",
      "keep children away from the pond.\n",
      "<TOKEN_INICIO> quédate los niños del río. <TOKEN_FIN>\n",
      "\n",
      "\n",
      "he accused the man of stealing.\n",
      "<TOKEN_INICIO> él dejó el hombre de que se fue. <TOKEN_FIN>\n",
      "\n",
      "\n",
      "there's something i should tell you.\n",
      "<TOKEN_INICIO> hay algo que debería decir que te lo hiciera. <TOKEN_FIN>\n",
      "\n",
      "\n",
      "she didn't read the book.\n",
      "<TOKEN_INICIO> ella no lee el libro. <TOKEN_FIN>\n",
      "\n",
      "\n",
      "turn on your headlights.\n",
      "<TOKEN_INICIO> pon los ojos en los demás. <TOKEN_FIN>\n",
      "\n",
      "\n",
      "they consider him unfit for the job.\n",
      "<TOKEN_INICIO> ellos no lo hicieron para el trabajo. <TOKEN_FIN>\n",
      "\n",
      "\n",
      "he sang some old songs.\n",
      "<TOKEN_INICIO> él cantó algo de nueva canción. <TOKEN_FIN>\n",
      "\n",
      "\n",
      "should i go?\n",
      "<TOKEN_INICIO> ¿te debo ir? <TOKEN_FIN>\n",
      "\n",
      "\n",
      "we danced all night long.\n",
      "<TOKEN_INICIO> fuimos toda la noche. <TOKEN_FIN>\n",
      "\n",
      "\n",
      "tom never told mary about john.\n",
      "<TOKEN_INICIO> tom nunca le dijo a mary sobre john. <TOKEN_FIN>\n",
      "\n",
      "\n",
      "why did he do such a thing?\n",
      "<TOKEN_INICIO> ¿por qué hizo él tan rápido por favor. <TOKEN_FIN>\n",
      "\n",
      "\n",
      "so you give up, right?\n",
      "<TOKEN_INICIO> ¿no te ves ¿verdad? <TOKEN_FIN>\n",
      "\n",
      "\n",
      "do as i told you.\n",
      "<TOKEN_INICIO> haz lo que te lo te lo mismo. <TOKEN_FIN>\n",
      "\n",
      "\n",
      "the heat was unbearable.\n",
      "<TOKEN_INICIO> el mundo fue un mentiroso. <TOKEN_FIN>\n",
      "\n",
      "\n",
      "give it to whoever needs it.\n",
      "<TOKEN_INICIO> dame que lo que lo que lo hizo eso. <TOKEN_FIN>\n",
      "\n",
      "\n",
      "what happened to you two?\n",
      "<TOKEN_INICIO> ¿qué le pasó a usted más de lo que quieras. <TOKEN_FIN>\n",
      "\n",
      "\n",
      "do you believe in god?\n",
      "<TOKEN_INICIO> ¿sabes en la pared. <TOKEN_FIN>\n",
      "\n",
      "\n",
      "do you think i'm stupid?\n",
      "<TOKEN_INICIO> ¿sabes que soy estúpido. <TOKEN_FIN>\n",
      "\n",
      "\n",
      "tom does outstanding work.\n",
      "<TOKEN_INICIO> tom está un trabajo de trabajo. <TOKEN_FIN>\n",
      "\n",
      "\n",
      "you should take my advice.\n",
      "<TOKEN_INICIO> deberías tomar mi consejo. <TOKEN_FIN>\n",
      "\n",
      "\n",
      "this book belongs to tom.\n",
      "<TOKEN_INICIO> este libro se sentó en tom. <TOKEN_FIN>\n",
      "\n",
      "\n",
      "she greeted me with a big smile.\n",
      "<TOKEN_INICIO> ella me habló con una gran vez. <TOKEN_FIN>\n",
      "\n",
      "\n",
      "they accomplished their mission.\n",
      "<TOKEN_INICIO> ellos se puso a su fiesta. <TOKEN_FIN>\n",
      "\n",
      "\n",
      "tom wanted to see mary happy.\n",
      "<TOKEN_INICIO> tom quería ver a mary feliz. <TOKEN_FIN>\n",
      "\n",
      "\n",
      "we've had some very cold winters.\n",
      "<TOKEN_INICIO> hemos visto algo muy frío. <TOKEN_FIN>\n",
      "\n",
      "\n",
      "tom can't take less.\n",
      "<TOKEN_INICIO> tom no puede tomar la cabeza. <TOKEN_FIN>\n",
      "\n",
      "\n",
      "i am memorizing a text.\n",
      "<TOKEN_INICIO> me estoy escribiendo un poco. <TOKEN_FIN>\n",
      "\n",
      "\n",
      "tom forgot to pay the bill.\n",
      "<TOKEN_INICIO> tom se olvidó de pagar la cuenta. <TOKEN_FIN>\n",
      "\n",
      "\n",
      "who told you this?\n",
      "<TOKEN_INICIO> ¿quién te dijo esto? <TOKEN_FIN>\n",
      "\n",
      "\n",
      "i have mentioned it to you before.\n",
      "<TOKEN_INICIO> lo he ido a que antes. <TOKEN_FIN>\n",
      "\n",
      "\n",
      "he is a very sincere person.\n",
      "<TOKEN_INICIO> él es una persona muy cansado. <TOKEN_FIN>\n",
      "\n",
      "\n",
      "the photo was a hoax.\n",
      "<TOKEN_INICIO> la caja era un segundo. <TOKEN_FIN>\n",
      "\n",
      "\n",
      "have another.\n",
      "<TOKEN_INICIO> ¿has un inglés. <TOKEN_FIN>\n",
      "\n",
      "\n",
      "i study mathematics.\n",
      "<TOKEN_INICIO> yo yo estudio en las cinco. <TOKEN_FIN>\n",
      "\n",
      "\n",
      "he hasn't come yet.\n",
      "<TOKEN_INICIO> él no ha hecho eso. <TOKEN_FIN>\n",
      "\n",
      "\n",
      "the horse is a useful animal.\n",
      "<TOKEN_INICIO> el caballo es un hombre grande. <TOKEN_FIN>\n",
      "\n",
      "\n",
      "the woman is drinking water now.\n",
      "<TOKEN_INICIO> la mujer está leyendo el agua. <TOKEN_FIN>\n",
      "\n",
      "\n",
      "write the date of your birth.\n",
      "<TOKEN_INICIO> escribe la sopa de tu habitación? <TOKEN_FIN>\n",
      "\n",
      "\n",
      "tom is listening to music.\n",
      "<TOKEN_INICIO> tom está escuchando música. <TOKEN_FIN>\n",
      "\n",
      "\n",
      "have you read this report?\n",
      "<TOKEN_INICIO> ¿has leído este libro? <TOKEN_FIN>\n",
      "\n",
      "\n",
      "who's tom? is he your new boyfriend?\n",
      "<TOKEN_INICIO> ¿quién es a tom es tu nuevo profesor. <TOKEN_FIN>\n",
      "\n",
      "\n",
      "i don't know what time it is.\n",
      "<TOKEN_INICIO> no sé qué hora es hora de eso. <TOKEN_FIN>\n",
      "\n",
      "\n",
      "tom isn't a kid anymore.\n",
      "<TOKEN_INICIO> tom no es más alto de idea. <TOKEN_FIN>\n",
      "\n",
      "\n",
      "can i borrow this?\n",
      "<TOKEN_INICIO> ¿puedo tomar esto? <TOKEN_FIN>\n",
      "\n",
      "\n",
      "please forget it.\n",
      "<TOKEN_INICIO> por favor, lo hizo de ello. <TOKEN_FIN>\n",
      "\n",
      "\n",
      "i didn't know you were busy.\n",
      "<TOKEN_INICIO> no sabía que estabas ocupado. <TOKEN_FIN>\n",
      "\n",
      "\n",
      "tom was naive.\n",
      "<TOKEN_INICIO> tom era ingenuo. <TOKEN_FIN>\n",
      "\n",
      "\n",
      "i agree with that statement.\n",
      "<TOKEN_INICIO> estoy de acuerdo con ese boleto. <TOKEN_FIN>\n",
      "\n",
      "\n",
      "are you going to be ok?\n",
      "<TOKEN_INICIO> ¿vas a estar ahora? <TOKEN_FIN>\n",
      "\n",
      "\n",
      "i'll stay home today.\n",
      "<TOKEN_INICIO> me siento en casa hoy. <TOKEN_FIN>\n",
      "\n",
      "\n",
      "what happened?\n",
      "<TOKEN_INICIO> ¿qué ha sido esto? <TOKEN_FIN>\n",
      "\n",
      "\n",
      "he wrote it hurriedly.\n",
      "<TOKEN_INICIO> él lo ha hecho a mí. <TOKEN_FIN>\n",
      "\n",
      "\n",
      "tom pinched mary.\n",
      "<TOKEN_INICIO> tom habló con mary. <TOKEN_FIN>\n",
      "\n",
      "\n",
      "this car is in good condition.\n",
      "<TOKEN_INICIO> este auto está en buena escritorio. <TOKEN_FIN>\n",
      "\n",
      "\n",
      "i still have some doubts.\n",
      "<TOKEN_INICIO> todavía tengo un poco de hambre. <TOKEN_FIN>\n",
      "\n",
      "\n",
      "i tried writing a novel.\n",
      "<TOKEN_INICIO> he oído que me siento una película. <TOKEN_FIN>\n",
      "\n",
      "\n",
      "come this way.\n",
      "<TOKEN_INICIO> ven por este momento. <TOKEN_FIN>\n",
      "\n",
      "\n",
      "tom pulled the door half shut.\n",
      "<TOKEN_INICIO> tom puso la puerta al colegio. <TOKEN_FIN>\n",
      "\n",
      "\n",
      "do i have to take off my shoes here?\n",
      "<TOKEN_INICIO> ¿tienes que dar los zapatos de los zapatos. <TOKEN_FIN>\n",
      "\n",
      "\n",
      "please help me with my homework.\n",
      "<TOKEN_INICIO> por favor, dime que mis padres. <TOKEN_FIN>\n",
      "\n",
      "\n",
      "i know how it is.\n",
      "<TOKEN_INICIO> sé cómo es ella. <TOKEN_FIN>\n",
      "\n",
      "\n",
      "tom raised his son without any help.\n",
      "<TOKEN_INICIO> tom dejó su hijo sin nada. <TOKEN_FIN>\n",
      "\n",
      "\n",
      "i'm coming.\n",
      "<TOKEN_INICIO> estoy de hambre. <TOKEN_FIN>\n",
      "\n",
      "\n",
      "don't forget to take your vitamins.\n",
      "<TOKEN_INICIO> no te olvides de tomar tu mañana? <TOKEN_FIN>\n",
      "\n",
      "\n",
      "didn't you learn that in school?\n",
      "<TOKEN_INICIO> ¿no has oído ese del árbol. <TOKEN_FIN>\n",
      "\n",
      "\n",
      "i had a phone call from him.\n",
      "<TOKEN_INICIO> tuve una taza de mary. <TOKEN_FIN>\n",
      "\n",
      "\n",
      "he kissed me on the forehead.\n",
      "<TOKEN_INICIO> me dio la semana en la ciudad. <TOKEN_FIN>\n",
      "\n",
      "\n",
      "could you please play a tango?\n",
      "<TOKEN_INICIO> ¿podrías saber un minuto. <TOKEN_FIN>\n",
      "\n",
      "\n",
      "you can't blame me for that.\n",
      "<TOKEN_INICIO> no te puedes soportar por eso. <TOKEN_FIN>\n",
      "\n",
      "\n",
      "this is a very mild coffee.\n",
      "<TOKEN_INICIO> este es un estudiante muy duro. <TOKEN_FIN>\n",
      "\n",
      "\n",
      "he was late to his own wedding.\n",
      "<TOKEN_INICIO> él fue tarde a su propio hijo. <TOKEN_FIN>\n",
      "\n",
      "\n",
      "you can rely on her.\n",
      "<TOKEN_INICIO> puedes usted el mundo en ella. <TOKEN_FIN>\n",
      "\n",
      "\n",
      "please write a letter to me.\n",
      "<TOKEN_INICIO> por favor, toma una carta a la carta. <TOKEN_FIN>\n",
      "\n",
      "\n",
      "the grapes ripened well that summer.\n",
      "<TOKEN_INICIO> la comida se puso el año pasado. <TOKEN_FIN>\n",
      "\n",
      "\n",
      "tom told mary that he was canadian.\n",
      "<TOKEN_INICIO> tom le dijo a mary que era canadiense. <TOKEN_FIN>\n",
      "\n",
      "\n",
      "tom is a quadriplegic.\n",
      "<TOKEN_INICIO> tom es un segundo. <TOKEN_FIN>\n",
      "\n",
      "\n",
      "do you speak filipino?\n",
      "<TOKEN_INICIO> ¿sabes hablar mañana? <TOKEN_FIN>\n",
      "\n",
      "\n",
      "can we talk later?\n",
      "<TOKEN_INICIO> ¿puedes hablar más que más tarde? <TOKEN_FIN>\n",
      "\n",
      "\n",
      "i don't know what you mean.\n",
      "<TOKEN_INICIO> no sé qué quiere qué quiere decir. <TOKEN_FIN>\n",
      "\n",
      "\n",
      "there is but one alternative.\n",
      "<TOKEN_INICIO> hay que una decisión un abogado? <TOKEN_FIN>\n",
      "\n",
      "\n",
      "tom cheated on his history test.\n",
      "<TOKEN_INICIO> tom se dio el gato de su madre. <TOKEN_FIN>\n",
      "\n",
      "\n",
      "he is likely to arrive soon.\n",
      "<TOKEN_INICIO> él lleva haber hecho pronto. <TOKEN_FIN>\n",
      "\n",
      "\n",
      "what was it that he was looking for?\n",
      "<TOKEN_INICIO> ¿qué fue lo que era ahora? <TOKEN_FIN>\n",
      "\n",
      "\n",
      "give me a break.\n",
      "<TOKEN_INICIO> dame un descanso. <TOKEN_FIN>\n",
      "\n",
      "\n",
      "she decided on the red coat.\n",
      "<TOKEN_INICIO> ella decidió en el tren del abrigo. <TOKEN_FIN>\n",
      "\n",
      "\n",
      "come here, the both of you.\n",
      "<TOKEN_INICIO> ven aquí por aquí a los demás. <TOKEN_FIN>\n",
      "\n",
      "\n",
      "the party's on monday.\n",
      "<TOKEN_INICIO> la es el lunes. <TOKEN_FIN>\n",
      "\n",
      "\n",
      "it's finally over.\n",
      "<TOKEN_INICIO> por favor, finalmente se ha hecho. <TOKEN_FIN>\n",
      "\n",
      "\n",
      "since i was sick, i didn't go.\n",
      "<TOKEN_INICIO> yo estaba realmente no yo no pude ir. <TOKEN_FIN>\n",
      "\n",
      "\n",
      "tom was supposed to be here by 2:30.\n",
      "<TOKEN_INICIO> tom se fue a estar aquí a las dos y media. <TOKEN_FIN>\n",
      "\n",
      "\n",
      "mary went to the tanning salon.\n",
      "<TOKEN_INICIO> mary fue a la policía a la ventana. <TOKEN_FIN>\n",
      "\n",
      "\n",
      "she sent her son for a doctor.\n",
      "<TOKEN_INICIO> le dio a su hijo a un médico. <TOKEN_FIN>\n",
      "\n",
      "\n",
      "now he tells me the truth.\n",
      "<TOKEN_INICIO> ahora me dijo la verdad. <TOKEN_FIN>\n",
      "\n",
      "\n",
      "i did that during summer vacation.\n",
      "<TOKEN_INICIO> lo hice durante las dos años. <TOKEN_FIN>\n",
      "\n",
      "\n",
      "none of us are busy right now.\n",
      "<TOKEN_INICIO> ¿no estamos de estamos haciendo ahora ahora. <TOKEN_FIN>\n",
      "\n",
      "\n",
      "there're no lights.\n",
      "<TOKEN_INICIO> hay no la cocina. <TOKEN_FIN>\n",
      "\n",
      "\n",
      "best of luck to you.\n",
      "<TOKEN_INICIO> mejor de verdad te va a ti. <TOKEN_FIN>\n",
      "\n",
      "\n",
      "is this really spaghetti?\n",
      "<TOKEN_INICIO> ¿es realmente este libro? <TOKEN_FIN>\n",
      "\n",
      "\n",
      "i know him by sight.\n",
      "<TOKEN_INICIO> sé que él la mano a la <TOKEN_FIN>\n",
      "\n",
      "\n",
      "put the book on the top shelf.\n",
      "<TOKEN_INICIO> pon el libro en el libro de la ciudad. <TOKEN_FIN>\n",
      "\n",
      "\n",
      "tom isn't fighting, is he?\n",
      "<TOKEN_INICIO> tom no es nada de tom ¿verdad? <TOKEN_FIN>\n",
      "\n",
      "\n",
      "quiet down, please.\n",
      "<TOKEN_INICIO> la guerra por favor. <TOKEN_FIN>\n",
      "\n",
      "\n",
      "i'm horrified.\n",
      "<TOKEN_INICIO> estoy borracho. <TOKEN_FIN>\n",
      "\n",
      "\n",
      "tom really is an idiot.\n",
      "<TOKEN_INICIO> tom realmente es un abogado. <TOKEN_FIN>\n",
      "\n",
      "\n",
      "why don't you accept that?\n",
      "<TOKEN_INICIO> ¿por qué no te quedes eso? <TOKEN_FIN>\n",
      "\n",
      "\n",
      "send him in.\n",
      "<TOKEN_INICIO> haz lo que le ha hecho. <TOKEN_FIN>\n",
      "\n",
      "\n",
      "what time does the bank open?\n",
      "<TOKEN_INICIO> ¿a qué hora empieza el banco. <TOKEN_FIN>\n",
      "\n",
      "\n",
      "he was unconscious for three days.\n",
      "<TOKEN_INICIO> él fue un día para tres días. <TOKEN_FIN>\n",
      "\n",
      "\n",
      "my house is close to a bus stop.\n",
      "<TOKEN_INICIO> mi casa está cerca de autobús. <TOKEN_FIN>\n",
      "\n",
      "\n",
      "make a copy of this report.\n",
      "<TOKEN_INICIO> haz una vez de este problema? <TOKEN_FIN>\n",
      "\n",
      "\n",
      "i lost my sunglasses.\n",
      "<TOKEN_INICIO> perdí mi vaso de mi lado. <TOKEN_FIN>\n",
      "\n",
      "\n",
      "you just missed it.\n",
      "<TOKEN_INICIO> solo lo has hecho de eso. <TOKEN_FIN>\n",
      "\n",
      "\n",
      "i am glad to run into you here.\n",
      "<TOKEN_INICIO> estoy feliz de que me da aquí. <TOKEN_FIN>\n",
      "\n",
      "\n",
      "tom finished his beer.\n",
      "<TOKEN_INICIO> tom fue de su cerveza. <TOKEN_FIN>\n",
      "\n",
      "\n",
      "he will never break his promise.\n",
      "<TOKEN_INICIO> él nunca se llama su promesa. <TOKEN_FIN>\n",
      "\n",
      "\n",
      "we've arrived.\n",
      "<TOKEN_INICIO> hemos perdido el mundo. <TOKEN_FIN>\n",
      "\n",
      "\n",
      "tom's feet felt numb.\n",
      "<TOKEN_INICIO> el mundo de tom se puso de boston. <TOKEN_FIN>\n",
      "\n",
      "\n",
      "i'm going to tom's house to study.\n",
      "<TOKEN_INICIO> voy a la casa de tom a la casa a la casa de que mary voy a\n",
      "\n",
      "\n",
      "tom is a football player.\n",
      "<TOKEN_INICIO> tom es un país de cabeza. <TOKEN_FIN>\n",
      "\n",
      "\n",
      "he talks a lot.\n",
      "<TOKEN_INICIO> él habla mucho. <TOKEN_FIN>\n",
      "\n",
      "\n",
      "do you smell anything?\n",
      "<TOKEN_INICIO> ¿sabes algo? <TOKEN_FIN>\n",
      "\n",
      "\n",
      "perhaps you've made a mistake.\n",
      "<TOKEN_INICIO> quizá has hecho un error. <TOKEN_FIN>\n",
      "\n",
      "\n",
      "i should've never come here.\n",
      "<TOKEN_INICIO> debería haber hecho nunca aquí. <TOKEN_FIN>\n",
      "\n",
      "\n",
      "how much should i be feeding my dog?\n",
      "<TOKEN_INICIO> ¿cuánto cuesta mi perro? <TOKEN_FIN>\n",
      "\n",
      "\n",
      "where did you get on this bus?\n",
      "<TOKEN_INICIO> ¿dónde te ves en este hospital. <TOKEN_FIN>\n",
      "\n",
      "\n",
      "i just want to ask you a question.\n",
      "<TOKEN_INICIO> solo quiero hacer una pregunta. <TOKEN_FIN>\n",
      "\n",
      "\n",
      "it's not that big a deal.\n",
      "<TOKEN_INICIO> no es tan gran médico. <TOKEN_FIN>\n",
      "\n",
      "\n",
      "the hotel is down there.\n",
      "<TOKEN_INICIO> el hombre está allí. <TOKEN_FIN>\n",
      "\n",
      "\n",
      "somebody opened the door.\n",
      "<TOKEN_INICIO> alguien abrió la puerta. <TOKEN_FIN>\n",
      "\n",
      "\n",
      "all men are equal before god.\n",
      "<TOKEN_INICIO> todos los hombres son detrás de boston. <TOKEN_FIN>\n",
      "\n",
      "\n",
      "do you live alone?\n",
      "<TOKEN_INICIO> ¿sabes alguna vez? <TOKEN_FIN>\n",
      "\n",
      "\n",
      "that chair goes in the corner.\n",
      "<TOKEN_INICIO> esa gran me va en la ciudad. <TOKEN_FIN>\n",
      "\n",
      "\n",
      "this story is too predictable.\n",
      "<TOKEN_INICIO> esta historia es demasiado pared. <TOKEN_FIN>\n",
      "\n",
      "\n",
      "there are some eggs in the box.\n",
      "<TOKEN_INICIO> hay algunos en los ojos en la caja. <TOKEN_FIN>\n",
      "\n",
      "\n",
      "who looks after the children?\n",
      "<TOKEN_INICIO> ¿quién parece las gafas. <TOKEN_FIN>\n",
      "\n",
      "\n",
      "you could start your own company.\n",
      "<TOKEN_INICIO> puedes aprender tu propio madre. <TOKEN_FIN>\n",
      "\n",
      "\n",
      "why should i listen to you?\n",
      "<TOKEN_INICIO> ¿por qué debería dejar que te guste. <TOKEN_FIN>\n",
      "\n",
      "\n",
      "i'm hurt.\n",
      "<TOKEN_INICIO> estoy herido. <TOKEN_FIN>\n",
      "\n",
      "\n",
      "were you busy yesterday?\n",
      "<TOKEN_INICIO> ¿te has ocupado hoy? <TOKEN_FIN>\n",
      "\n",
      "\n",
      "i think i'm going mad.\n",
      "<TOKEN_INICIO> creo que voy a hacer <TOKEN_FIN>\n",
      "\n",
      "\n",
      "everyone dreams.\n",
      "<TOKEN_INICIO> todos se quedó años. <TOKEN_FIN>\n",
      "\n",
      "\n",
      "the boy sat on a chair.\n",
      "<TOKEN_INICIO> el niño se sentó en una silla. <TOKEN_FIN>\n",
      "\n",
      "\n",
      "she's my sister.\n",
      "<TOKEN_INICIO> ella es mi hermana. <TOKEN_FIN>\n",
      "\n",
      "\n",
      "he stole money from me.\n",
      "<TOKEN_INICIO> él me dio dinero de mí. <TOKEN_FIN>\n",
      "\n",
      "\n",
      "it's the smart thing to do.\n",
      "<TOKEN_INICIO> es lo que hacer. <TOKEN_FIN>\n",
      "\n",
      "\n",
      "tom is absolutely terrified.\n",
      "<TOKEN_INICIO> tom es muy bien el dedo. <TOKEN_FIN>\n",
      "\n",
      "\n",
      "i don't know what that is.\n",
      "<TOKEN_INICIO> no sé lo que es eso. <TOKEN_FIN>\n",
      "\n",
      "\n",
      "the notice was badly printed.\n",
      "<TOKEN_INICIO> la chica estaba en tokio. <TOKEN_FIN>\n",
      "\n",
      "\n",
      "he delivers newspapers.\n",
      "<TOKEN_INICIO> él se quedó en tokio. <TOKEN_FIN>\n",
      "\n",
      "\n",
      "tom's dead.\n",
      "<TOKEN_INICIO> tom está muerto. <TOKEN_FIN>\n",
      "\n",
      "\n",
      "it's not a bomb.\n",
      "<TOKEN_INICIO> no es un boleto. <TOKEN_FIN>\n",
      "\n",
      "\n",
      "she stopped sewing and had some tea.\n",
      "<TOKEN_INICIO> ella se dejó de acuerdo y un poco de té. <TOKEN_FIN>\n",
      "\n",
      "\n",
      "do you have this in my size?\n",
      "<TOKEN_INICIO> ¿tienes este en mi madre. <TOKEN_FIN>\n",
      "\n",
      "\n",
      "i owe you an explanation.\n",
      "<TOKEN_INICIO> te debo una carta. <TOKEN_FIN>\n",
      "\n",
      "\n",
      "i hired tom.\n",
      "<TOKEN_INICIO> yo le pedí a tom. <TOKEN_FIN>\n",
      "\n",
      "\n",
      "perhaps the book will prove useful.\n",
      "<TOKEN_INICIO> puede que el libro de fumar bien. <TOKEN_FIN>\n",
      "\n",
      "\n",
      "we're not your enemies.\n",
      "<TOKEN_INICIO> no estamos tu profesor. <TOKEN_FIN>\n",
      "\n",
      "\n",
      "i don't know which one to choose.\n",
      "<TOKEN_INICIO> no sé qué un trozo de novia. <TOKEN_FIN>\n",
      "\n",
      "\n",
      "we can't talk here.\n",
      "<TOKEN_INICIO> no podemos hablar aquí. <TOKEN_FIN>\n",
      "\n",
      "\n",
      "it was a difficult game.\n",
      "<TOKEN_INICIO> fue un día difícil de juego. <TOKEN_FIN>\n",
      "\n",
      "\n",
      "when did you learn to drive?\n",
      "<TOKEN_INICIO> ¿cuándo te has oído a nosotros? <TOKEN_FIN>\n",
      "\n",
      "\n",
      "i have a bone to pick with you.\n",
      "<TOKEN_INICIO> tengo una historia con vos. <TOKEN_FIN>\n",
      "\n",
      "\n",
      "i tried to hide my disappointment.\n",
      "<TOKEN_INICIO> espero que mi promesa. <TOKEN_FIN>\n",
      "\n",
      "\n",
      "your shirt is stained.\n",
      "<TOKEN_INICIO> tu nueva mesa está en el mundo. <TOKEN_FIN>\n",
      "\n",
      "\n",
      "where are the kids?\n",
      "<TOKEN_INICIO> ¿dónde están los ojos. <TOKEN_FIN>\n",
      "\n",
      "\n",
      "i am getting dressed.\n",
      "<TOKEN_INICIO> me estoy haciendo los ojos. <TOKEN_FIN>\n",
      "\n",
      "\n",
      "all i want is to be left alone.\n",
      "<TOKEN_INICIO> todo lo que quiero estar solo. <TOKEN_FIN>\n",
      "\n",
      "\n",
      "she is always smiling.\n",
      "<TOKEN_INICIO> ella siempre está sonriendo. <TOKEN_FIN>\n",
      "\n",
      "\n",
      "we rented a canoe.\n",
      "<TOKEN_INICIO> jugamos un árbol. <TOKEN_FIN>\n",
      "\n",
      "\n",
      "you're finished already.\n",
      "<TOKEN_INICIO> ya ha hecho de eso. <TOKEN_FIN>\n",
      "\n",
      "\n",
      "are you calling me a liar?\n",
      "<TOKEN_INICIO> ¿estás buscando un segundo. <TOKEN_FIN>\n",
      "\n",
      "\n",
      "report for duty monday morning.\n",
      "<TOKEN_INICIO> pon el mundo se llama el lunes por la mañana. <TOKEN_FIN>\n",
      "\n",
      "\n",
      "who is that person?\n",
      "<TOKEN_INICIO> ¿quién es ese bebé. <TOKEN_FIN>\n",
      "\n",
      "\n",
      "what time is it now?\n",
      "<TOKEN_INICIO> ¿a qué hora es ahora? <TOKEN_FIN>\n",
      "\n",
      "\n",
      "what's new with you?\n",
      "<TOKEN_INICIO> ¿qué es nuevo con esto? <TOKEN_FIN>\n",
      "\n",
      "\n",
      "you had better do what they say.\n",
      "<TOKEN_INICIO> tienes mejor que lo que lo que lo lo que lo que lo has dicho lo has\n",
      "\n",
      "\n",
      "this lake is deep.\n",
      "<TOKEN_INICIO> este es el lago de ella. <TOKEN_FIN>\n",
      "\n",
      "\n",
      "please wish me luck.\n",
      "<TOKEN_INICIO> por favor, ¿me ha hecho un ayuda. <TOKEN_FIN>\n",
      "\n",
      "\n",
      "she was absorbed in her work.\n",
      "<TOKEN_INICIO> ella fue capaz de su trabajo. <TOKEN_FIN>\n",
      "\n",
      "\n",
      "please explain how to get there.\n",
      "<TOKEN_INICIO> por favor, vamos a hacer allí. <TOKEN_FIN>\n",
      "\n",
      "\n",
      "his speech was too short.\n",
      "<TOKEN_INICIO> su discurso fue demasiado abierta. <TOKEN_FIN>\n",
      "\n",
      "\n",
      "i know tom is happy.\n",
      "<TOKEN_INICIO> sé que tom es feliz. <TOKEN_FIN>\n",
      "\n",
      "\n",
      "why shouldn't i do that?\n",
      "<TOKEN_INICIO> ¿por qué no debería hacer eso? <TOKEN_FIN>\n",
      "\n",
      "\n",
      "get me a beer.\n",
      "<TOKEN_INICIO> dame una cerveza. <TOKEN_FIN>\n",
      "\n",
      "\n",
      "it's snowing.\n",
      "<TOKEN_INICIO> está borracho. <TOKEN_FIN>\n",
      "\n",
      "\n",
      "those aren't mine.\n",
      "<TOKEN_INICIO> esas no son mío. <TOKEN_FIN>\n",
      "\n",
      "\n",
      "look at me when i talk to you!\n",
      "<TOKEN_INICIO> mira cuando yo que yo te voy a ayudar. <TOKEN_FIN>\n",
      "\n",
      "\n",
      "tom won't go alone.\n",
      "<TOKEN_INICIO> tom no va a ir solo. <TOKEN_FIN>\n",
      "\n",
      "\n",
      "i'll be with you as soon as i can.\n",
      "<TOKEN_INICIO> estaré con usted como si yo pueda. <TOKEN_FIN>\n",
      "\n",
      "\n",
      "i like drinking beer and wine.\n",
      "<TOKEN_INICIO> me gusta leer y japón. <TOKEN_FIN>\n",
      "\n",
      "\n",
      "you're useless.\n",
      "<TOKEN_INICIO> eres un poco de nada. <TOKEN_FIN>\n",
      "\n",
      "\n",
      "that patient may die at any time.\n",
      "<TOKEN_INICIO> ese perro puede aprender en cualquier vez. <TOKEN_FIN>\n",
      "\n",
      "\n",
      "the young girl remained silent.\n",
      "<TOKEN_INICIO> la chica se quedó en china. <TOKEN_FIN>\n",
      "\n",
      "\n",
      "for here, or to go?\n",
      "<TOKEN_INICIO> por aquí o o para ir? <TOKEN_FIN>\n",
      "\n",
      "\n",
      "i can't stop him.\n",
      "<TOKEN_INICIO> no puedo dejar de él. <TOKEN_FIN>\n",
      "\n",
      "\n",
      "why would tom want to kill anyone?\n",
      "<TOKEN_INICIO> ¿por qué tom quiere comer tom? <TOKEN_FIN>\n",
      "\n",
      "\n",
      "tom is probably still hiding.\n",
      "<TOKEN_INICIO> tom todavía está haciendo despierto. <TOKEN_FIN>\n",
      "\n",
      "\n",
      "please add my name to the list.\n",
      "<TOKEN_INICIO> por favor, dime mi nombre de la lista. <TOKEN_FIN>\n",
      "\n",
      "\n"
     ]
    }
   ],
   "source": [
    "for i in range(len(x1_test)):\n",
    "    sequence = x1_test[i]\n",
    "    decode_seq = [source_token_dict_inv[j] for j in x1_test[i]]\n",
    "    decode_seq = decode_seq[1:]\n",
    "    decode_seq = [word for word in decode_seq if word[-1]!= '>']\n",
    "    print(\" \".join(decode_seq))\n",
    "    print(translate(\" \".join(decode_seq)))\n",
    "    print('\\n')\n",
    "    if i == 200:\n",
    "      break"
   ]
  }
 ],
 "metadata": {
  "accelerator": "GPU",
  "colab": {
   "collapsed_sections": [],
   "name": "Tarea2_copia_29-5.ipynb",
   "provenance": []
  },
  "kernelspec": {
   "display_name": "Python 3 (ipykernel)",
   "language": "python",
   "name": "python3"
  },
  "language_info": {
   "codemirror_mode": {
    "name": "ipython",
    "version": 3
   },
   "file_extension": ".py",
   "mimetype": "text/x-python",
   "name": "python",
   "nbconvert_exporter": "python",
   "pygments_lexer": "ipython3",
   "version": "3.9.7"
  }
 },
 "nbformat": 4,
 "nbformat_minor": 5
}
