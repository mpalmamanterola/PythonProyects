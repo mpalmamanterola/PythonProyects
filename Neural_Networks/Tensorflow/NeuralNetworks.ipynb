{
 "cells": [
  {
   "cell_type": "markdown",
   "id": "4e790995-1235-45b5-a9f3-b08a9d6c296b",
   "metadata": {
    "id": "4e790995-1235-45b5-a9f3-b08a9d6c296b",
    "tags": [],
    "toc-hr-collapsed": true
   },
   "source": [
    "<center>\n",
    "\n",
    "\n",
    "## Redes Neuronales avanzadas para el aprendizaje profundo\n",
    "\n",
    "---\n",
    "\n",
    "\n",
    "### Matías Palma Manterola\n",
    "####  11 de abril del 2022"
   ]
  },
  {
   "cell_type": "markdown",
   "id": "2c155cbb-89f5-4c0f-9da0-08d9ee09da4f",
   "metadata": {
    "id": "2c155cbb-89f5-4c0f-9da0-08d9ee09da4f"
   },
   "source": [
    "La Base de Datos twitter training contiene 4 columnas: código, entidad,\n",
    "sentimiento, opinión. Solo considerando las columnas sentimiento y opinión,\n",
    "y utilizando las buenas prácticas del análisis de datos, encontrar un modelo de\n",
    "Análisis de Sentimientos para entidades en redes sociales. Para esto, resolver\n",
    "las siguientes preguntas."
   ]
  },
  {
   "cell_type": "markdown",
   "id": "fe780355-008a-4f24-8e7d-5614f9d60b24",
   "metadata": {
    "id": "fe780355-008a-4f24-8e7d-5614f9d60b24"
   },
   "source": [
    "# Pregunta 1\n",
    "Preprocesar los datos y construir un conjunto de datos $(X, y)$, donde $y\\in\\{Positive, Negative\\}$. Aquí, la variable $X$ corresponde al conjunto de documentos vectorizados y la variable $y$ corresponde a las etiquetas de clase representadas como vectores categóricos."
   ]
  },
  {
   "cell_type": "code",
   "execution_count": 1,
   "id": "m1_kEoCs0-_C",
   "metadata": {
    "colab": {
     "base_uri": "https://localhost:8080/"
    },
    "id": "m1_kEoCs0-_C",
    "outputId": "6cd828b0-fb0f-4345-bf42-9b95b80b0d08"
   },
   "outputs": [
    {
     "name": "stdout",
     "output_type": "stream",
     "text": [
      "Mounted at /content/gdrive\n"
     ]
    }
   ],
   "source": [
    "from google.colab import drive \n",
    "drive.mount('/content/gdrive')"
   ]
  },
  {
   "cell_type": "code",
   "execution_count": 2,
   "id": "e7a567ae-56f0-41b6-bb9f-228a18755906",
   "metadata": {
    "colab": {
     "base_uri": "https://localhost:8080/"
    },
    "id": "e7a567ae-56f0-41b6-bb9f-228a18755906",
    "outputId": "b5297253-ba2d-4e0c-b12d-a93d72ccdffa"
   },
   "outputs": [
    {
     "data": {
      "text/plain": [
       "(74682, 4)"
      ]
     },
     "execution_count": 2,
     "metadata": {},
     "output_type": "execute_result"
    }
   ],
   "source": [
    "import pandas as pd\n",
    "twitter_coms =  pd.read_csv(r'/content/gdrive/MyDrive/twitter_training.csv', \n",
    "                            names = ['code','entity','sentiment','opinion'])\n",
    "twitter_coms.shape"
   ]
  },
  {
   "cell_type": "markdown",
   "id": "gckheGC0ARvM",
   "metadata": {
    "id": "gckheGC0ARvM"
   },
   "source": [
    "Contamos la cantidad de datos que existen en cada clase"
   ]
  },
  {
   "cell_type": "code",
   "execution_count": 3,
   "id": "85c3f1f6-0114-4a70-a5d4-6a932522dbdb",
   "metadata": {
    "colab": {
     "base_uri": "https://localhost:8080/"
    },
    "id": "85c3f1f6-0114-4a70-a5d4-6a932522dbdb",
    "outputId": "05a8b0b8-4ccd-4fdf-9826-ac88c9017f0d"
   },
   "outputs": [
    {
     "data": {
      "text/plain": [
       "Counter({'Irrelevant': 12990,\n",
       "         'Negative': 22542,\n",
       "         'Neutral': 18318,\n",
       "         'Positive': 20832})"
      ]
     },
     "execution_count": 3,
     "metadata": {},
     "output_type": "execute_result"
    }
   ],
   "source": [
    "from collections import Counter\n",
    "classes = Counter(twitter_coms['sentiment'])\n",
    "classes"
   ]
  },
  {
   "cell_type": "markdown",
   "id": "6r8Zd5WXAXPj",
   "metadata": {
    "id": "6r8Zd5WXAXPj"
   },
   "source": [
    "Consultamos los datos nulos existentes en cada columna"
   ]
  },
  {
   "cell_type": "code",
   "execution_count": 4,
   "id": "6c870a6b-06a9-449e-8a87-fdd86170f7c1",
   "metadata": {
    "colab": {
     "base_uri": "https://localhost:8080/"
    },
    "id": "6c870a6b-06a9-449e-8a87-fdd86170f7c1",
    "outputId": "aae159c4-c3ae-4196-f293-88071de467d8"
   },
   "outputs": [
    {
     "data": {
      "text/plain": [
       "code           0\n",
       "entity         0\n",
       "sentiment      0\n",
       "opinion      686\n",
       "dtype: int64"
      ]
     },
     "execution_count": 4,
     "metadata": {},
     "output_type": "execute_result"
    }
   ],
   "source": [
    "twitter_coms.isnull().sum()"
   ]
  },
  {
   "cell_type": "markdown",
   "id": "3Qa33rk-AeTF",
   "metadata": {
    "id": "3Qa33rk-AeTF"
   },
   "source": [
    "Eliminamos los valores nulos de la columna *opinion*"
   ]
  },
  {
   "cell_type": "code",
   "execution_count": 5,
   "id": "f43297f5-11b4-47da-97cd-610648709fd0",
   "metadata": {
    "id": "f43297f5-11b4-47da-97cd-610648709fd0"
   },
   "outputs": [],
   "source": [
    "twitter_coms = twitter_coms.dropna(subset=['opinion']).reset_index(drop = True)"
   ]
  },
  {
   "cell_type": "markdown",
   "id": "tev4qdTYAnNj",
   "metadata": {
    "id": "tev4qdTYAnNj"
   },
   "source": [
    "Consultamos aquellos comentarios vacíos"
   ]
  },
  {
   "cell_type": "code",
   "execution_count": 6,
   "id": "4f020550-ed6c-40ad-be4a-751c91bcff25",
   "metadata": {
    "colab": {
     "base_uri": "https://localhost:8080/",
     "height": 423
    },
    "id": "4f020550-ed6c-40ad-be4a-751c91bcff25",
    "outputId": "352616b0-1fcd-4732-ab7f-62149524f3a1"
   },
   "outputs": [
    {
     "data": {
      "text/html": [
       "\n",
       "  <div id=\"df-4fa10216-c897-4302-9faa-e619aa889eed\">\n",
       "    <div class=\"colab-df-container\">\n",
       "      <div>\n",
       "<style scoped>\n",
       "    .dataframe tbody tr th:only-of-type {\n",
       "        vertical-align: middle;\n",
       "    }\n",
       "\n",
       "    .dataframe tbody tr th {\n",
       "        vertical-align: top;\n",
       "    }\n",
       "\n",
       "    .dataframe thead th {\n",
       "        text-align: right;\n",
       "    }\n",
       "</style>\n",
       "<table border=\"1\" class=\"dataframe\">\n",
       "  <thead>\n",
       "    <tr style=\"text-align: right;\">\n",
       "      <th></th>\n",
       "      <th>code</th>\n",
       "      <th>entity</th>\n",
       "      <th>sentiment</th>\n",
       "      <th>opinion</th>\n",
       "    </tr>\n",
       "  </thead>\n",
       "  <tbody>\n",
       "    <tr>\n",
       "      <th>2286</th>\n",
       "      <td>1602</td>\n",
       "      <td>CallOfDutyBlackopsColdWar</td>\n",
       "      <td>Irrelevant</td>\n",
       "      <td></td>\n",
       "    </tr>\n",
       "    <tr>\n",
       "      <th>2979</th>\n",
       "      <td>1719</td>\n",
       "      <td>CallOfDutyBlackopsColdWar</td>\n",
       "      <td>Positive</td>\n",
       "      <td></td>\n",
       "    </tr>\n",
       "    <tr>\n",
       "      <th>3220</th>\n",
       "      <td>1763</td>\n",
       "      <td>CallOfDutyBlackopsColdWar</td>\n",
       "      <td>Neutral</td>\n",
       "      <td></td>\n",
       "    </tr>\n",
       "    <tr>\n",
       "      <th>3908</th>\n",
       "      <td>1880</td>\n",
       "      <td>CallOfDutyBlackopsColdWar</td>\n",
       "      <td>Negative</td>\n",
       "      <td></td>\n",
       "    </tr>\n",
       "    <tr>\n",
       "      <th>4198</th>\n",
       "      <td>1929</td>\n",
       "      <td>CallOfDutyBlackopsColdWar</td>\n",
       "      <td>Negative</td>\n",
       "      <td></td>\n",
       "    </tr>\n",
       "    <tr>\n",
       "      <th>...</th>\n",
       "      <td>...</td>\n",
       "      <td>...</td>\n",
       "      <td>...</td>\n",
       "      <td>...</td>\n",
       "    </tr>\n",
       "    <tr>\n",
       "      <th>72563</th>\n",
       "      <td>8945</td>\n",
       "      <td>Nvidia</td>\n",
       "      <td>Positive</td>\n",
       "      <td></td>\n",
       "    </tr>\n",
       "    <tr>\n",
       "      <th>72846</th>\n",
       "      <td>8993</td>\n",
       "      <td>Nvidia</td>\n",
       "      <td>Neutral</td>\n",
       "      <td></td>\n",
       "    </tr>\n",
       "    <tr>\n",
       "      <th>73082</th>\n",
       "      <td>9036</td>\n",
       "      <td>Nvidia</td>\n",
       "      <td>Negative</td>\n",
       "      <td></td>\n",
       "    </tr>\n",
       "    <tr>\n",
       "      <th>73288</th>\n",
       "      <td>9073</td>\n",
       "      <td>Nvidia</td>\n",
       "      <td>Positive</td>\n",
       "      <td></td>\n",
       "    </tr>\n",
       "    <tr>\n",
       "      <th>73735</th>\n",
       "      <td>9154</td>\n",
       "      <td>Nvidia</td>\n",
       "      <td>Positive</td>\n",
       "      <td></td>\n",
       "    </tr>\n",
       "  </tbody>\n",
       "</table>\n",
       "<p>172 rows × 4 columns</p>\n",
       "</div>\n",
       "      <button class=\"colab-df-convert\" onclick=\"convertToInteractive('df-4fa10216-c897-4302-9faa-e619aa889eed')\"\n",
       "              title=\"Convert this dataframe to an interactive table.\"\n",
       "              style=\"display:none;\">\n",
       "        \n",
       "  <svg xmlns=\"http://www.w3.org/2000/svg\" height=\"24px\"viewBox=\"0 0 24 24\"\n",
       "       width=\"24px\">\n",
       "    <path d=\"M0 0h24v24H0V0z\" fill=\"none\"/>\n",
       "    <path d=\"M18.56 5.44l.94 2.06.94-2.06 2.06-.94-2.06-.94-.94-2.06-.94 2.06-2.06.94zm-11 1L8.5 8.5l.94-2.06 2.06-.94-2.06-.94L8.5 2.5l-.94 2.06-2.06.94zm10 10l.94 2.06.94-2.06 2.06-.94-2.06-.94-.94-2.06-.94 2.06-2.06.94z\"/><path d=\"M17.41 7.96l-1.37-1.37c-.4-.4-.92-.59-1.43-.59-.52 0-1.04.2-1.43.59L10.3 9.45l-7.72 7.72c-.78.78-.78 2.05 0 2.83L4 21.41c.39.39.9.59 1.41.59.51 0 1.02-.2 1.41-.59l7.78-7.78 2.81-2.81c.8-.78.8-2.07 0-2.86zM5.41 20L4 18.59l7.72-7.72 1.47 1.35L5.41 20z\"/>\n",
       "  </svg>\n",
       "      </button>\n",
       "      \n",
       "  <style>\n",
       "    .colab-df-container {\n",
       "      display:flex;\n",
       "      flex-wrap:wrap;\n",
       "      gap: 12px;\n",
       "    }\n",
       "\n",
       "    .colab-df-convert {\n",
       "      background-color: #E8F0FE;\n",
       "      border: none;\n",
       "      border-radius: 50%;\n",
       "      cursor: pointer;\n",
       "      display: none;\n",
       "      fill: #1967D2;\n",
       "      height: 32px;\n",
       "      padding: 0 0 0 0;\n",
       "      width: 32px;\n",
       "    }\n",
       "\n",
       "    .colab-df-convert:hover {\n",
       "      background-color: #E2EBFA;\n",
       "      box-shadow: 0px 1px 2px rgba(60, 64, 67, 0.3), 0px 1px 3px 1px rgba(60, 64, 67, 0.15);\n",
       "      fill: #174EA6;\n",
       "    }\n",
       "\n",
       "    [theme=dark] .colab-df-convert {\n",
       "      background-color: #3B4455;\n",
       "      fill: #D2E3FC;\n",
       "    }\n",
       "\n",
       "    [theme=dark] .colab-df-convert:hover {\n",
       "      background-color: #434B5C;\n",
       "      box-shadow: 0px 1px 3px 1px rgba(0, 0, 0, 0.15);\n",
       "      filter: drop-shadow(0px 1px 2px rgba(0, 0, 0, 0.3));\n",
       "      fill: #FFFFFF;\n",
       "    }\n",
       "  </style>\n",
       "\n",
       "      <script>\n",
       "        const buttonEl =\n",
       "          document.querySelector('#df-4fa10216-c897-4302-9faa-e619aa889eed button.colab-df-convert');\n",
       "        buttonEl.style.display =\n",
       "          google.colab.kernel.accessAllowed ? 'block' : 'none';\n",
       "\n",
       "        async function convertToInteractive(key) {\n",
       "          const element = document.querySelector('#df-4fa10216-c897-4302-9faa-e619aa889eed');\n",
       "          const dataTable =\n",
       "            await google.colab.kernel.invokeFunction('convertToInteractive',\n",
       "                                                     [key], {});\n",
       "          if (!dataTable) return;\n",
       "\n",
       "          const docLinkHtml = 'Like what you see? Visit the ' +\n",
       "            '<a target=\"_blank\" href=https://colab.research.google.com/notebooks/data_table.ipynb>data table notebook</a>'\n",
       "            + ' to learn more about interactive tables.';\n",
       "          element.innerHTML = '';\n",
       "          dataTable['output_type'] = 'display_data';\n",
       "          await google.colab.output.renderOutput(dataTable, element);\n",
       "          const docLink = document.createElement('div');\n",
       "          docLink.innerHTML = docLinkHtml;\n",
       "          element.appendChild(docLink);\n",
       "        }\n",
       "      </script>\n",
       "    </div>\n",
       "  </div>\n",
       "  "
      ],
      "text/plain": [
       "       code                     entity   sentiment opinion\n",
       "2286   1602  CallOfDutyBlackopsColdWar  Irrelevant        \n",
       "2979   1719  CallOfDutyBlackopsColdWar    Positive        \n",
       "3220   1763  CallOfDutyBlackopsColdWar     Neutral        \n",
       "3908   1880  CallOfDutyBlackopsColdWar    Negative        \n",
       "4198   1929  CallOfDutyBlackopsColdWar    Negative        \n",
       "...     ...                        ...         ...     ...\n",
       "72563  8945                     Nvidia    Positive        \n",
       "72846  8993                     Nvidia     Neutral        \n",
       "73082  9036                     Nvidia    Negative        \n",
       "73288  9073                     Nvidia    Positive        \n",
       "73735  9154                     Nvidia    Positive        \n",
       "\n",
       "[172 rows x 4 columns]"
      ]
     },
     "execution_count": 6,
     "metadata": {},
     "output_type": "execute_result"
    }
   ],
   "source": [
    "twitter_coms.query(\"opinion == ' '\")"
   ]
  },
  {
   "cell_type": "markdown",
   "id": "v-LJnV7BAtOa",
   "metadata": {
    "id": "v-LJnV7BAtOa"
   },
   "source": [
    "Reemplazamos los comentarios vacíos por valores nulos para eliminarlos del dataframe"
   ]
  },
  {
   "cell_type": "code",
   "execution_count": 7,
   "id": "09137d33-d12c-4a20-a35f-c0648a89a11a",
   "metadata": {
    "id": "09137d33-d12c-4a20-a35f-c0648a89a11a"
   },
   "outputs": [],
   "source": [
    "import numpy as np\n",
    "\n",
    "twitter_coms['opinion'] = twitter_coms.opinion.replace(' ', np.NaN )\n",
    "twitter_coms = twitter_coms.dropna(subset=['opinion']).reset_index(drop = True)"
   ]
  },
  {
   "cell_type": "markdown",
   "id": "7EofYYw5A1dy",
   "metadata": {
    "id": "7EofYYw5A1dy"
   },
   "source": [
    "Transformamos las clases positiva(1) y negativa(0) a binario y extraemos los datos de interés en la variable binary_coms"
   ]
  },
  {
   "cell_type": "code",
   "execution_count": 8,
   "id": "c9708f4c-aa8b-40be-8e24-58cf963d4fc6",
   "metadata": {
    "id": "c9708f4c-aa8b-40be-8e24-58cf963d4fc6"
   },
   "outputs": [],
   "source": [
    "twitter_coms['sentiment'] = twitter_coms['sentiment'].replace({'Positive':1 , 'Negative':0})\n",
    "binary_coms = twitter_coms.query(\"sentiment == 1 or sentiment == 0\").reset_index(drop=True)"
   ]
  },
  {
   "cell_type": "markdown",
   "id": "fe47DSTHBfJa",
   "metadata": {
    "id": "fe47DSTHBfJa"
   },
   "source": [
    "Eliminamos aquellos valores duplicados"
   ]
  },
  {
   "cell_type": "code",
   "execution_count": 9,
   "id": "ee50c703-e539-4972-b459-e542390d6555",
   "metadata": {
    "id": "ee50c703-e539-4972-b459-e542390d6555"
   },
   "outputs": [],
   "source": [
    "binary_coms.drop_duplicates(subset = ['opinion'], inplace = True)"
   ]
  },
  {
   "cell_type": "code",
   "execution_count": 10,
   "id": "4574cc6a-c14a-4d38-8974-9831188addaf",
   "metadata": {
    "colab": {
     "base_uri": "https://localhost:8080/"
    },
    "id": "4574cc6a-c14a-4d38-8974-9831188addaf",
    "outputId": "afc286a9-d56e-41bf-c404-0dd84b64b3d2"
   },
   "outputs": [
    {
     "data": {
      "text/plain": [
       "2090"
      ]
     },
     "execution_count": 10,
     "metadata": {},
     "output_type": "execute_result"
    }
   ],
   "source": [
    "pos = len( binary_coms.query(\"sentiment == 1\") )\n",
    "neg = len( binary_coms.query(\"sentiment == 0\") )\n",
    "dif = abs(pos - neg)\n",
    "dif"
   ]
  },
  {
   "cell_type": "markdown",
   "id": "2vmsCEdUBjW6",
   "metadata": {
    "id": "2vmsCEdUBjW6"
   },
   "source": [
    "Gneramos datos duplicados de la clase con menor cantidad de datos para equilibrarlos"
   ]
  },
  {
   "cell_type": "code",
   "execution_count": 11,
   "id": "32053281-5cb0-4cdf-9c1d-78be9dce298b",
   "metadata": {
    "id": "32053281-5cb0-4cdf-9c1d-78be9dce298b"
   },
   "outputs": [],
   "source": [
    "equilibrate = binary_coms.query('sentiment == 1').sample(dif,\n",
    "                                                         random_state =73, \n",
    "                                                         axis = 0, \n",
    "                                                         ignore_index = True)\n",
    "binary_coms = pd.concat([binary_coms,equilibrate], ignore_index = True)"
   ]
  },
  {
   "cell_type": "markdown",
   "id": "fmt1wpXiB79x",
   "metadata": {
    "id": "fmt1wpXiB79x"
   },
   "source": [
    "Eliminamos carácteres especiales y transformamos el texto a sólo minúsculas"
   ]
  },
  {
   "cell_type": "code",
   "execution_count": 12,
   "id": "a8df98b7-778f-4038-bd1a-d32ef1b34626",
   "metadata": {
    "id": "a8df98b7-778f-4038-bd1a-d32ef1b34626"
   },
   "outputs": [],
   "source": [
    "import re\n",
    "\n",
    "def preprocesador(text):\n",
    "    text = (re.sub('[\\W]', ' ', text.lower()))\n",
    "    return text\n",
    "binary_coms['opinion'] = binary_coms['opinion'].astype('str').apply(preprocesador)"
   ]
  },
  {
   "cell_type": "markdown",
   "id": "mcacMggECNvq",
   "metadata": {
    "id": "mcacMggECNvq"
   },
   "source": [
    "Tokenizamos el corpus de documentos a un corpus de secuencias de tokens únicos de tipo string"
   ]
  },
  {
   "cell_type": "code",
   "execution_count": 13,
   "id": "0cd5acca-8b9d-466e-ac3a-0a208f797af7",
   "metadata": {
    "colab": {
     "base_uri": "https://localhost:8080/"
    },
    "id": "0cd5acca-8b9d-466e-ac3a-0a208f797af7",
    "outputId": "3338a7d4-8c92-4ed2-eb4e-e372f058ce6f"
   },
   "outputs": [
    {
     "name": "stdout",
     "output_type": "stream",
     "text": [
      "[nltk_data] Downloading package punkt to /root/nltk_data...\n",
      "[nltk_data]   Unzipping tokenizers/punkt.zip.\n"
     ]
    }
   ],
   "source": [
    "import nltk\n",
    "nltk.download('punkt')\n",
    "\n",
    "corpus = binary_coms['opinion'].values.tolist()\n",
    "tok_corp = [nltk.word_tokenize(sent) for sent in corpus]"
   ]
  },
  {
   "cell_type": "code",
   "execution_count": 14,
   "id": "b80357ed-1a97-4e03-a97f-e9d78ac5b9b2",
   "metadata": {
    "id": "b80357ed-1a97-4e03-a97f-e9d78ac5b9b2",
    "tags": []
   },
   "outputs": [],
   "source": [
    "from tensorflow.keras.preprocessing.text import Tokenizer\n",
    "\n",
    "tokenizer = Tokenizer(oov_token = 1)\n",
    "tokenizer.fit_on_texts(tok_corp)"
   ]
  },
  {
   "cell_type": "code",
   "execution_count": 15,
   "id": "ml9L1qCJa3i3",
   "metadata": {
    "colab": {
     "base_uri": "https://localhost:8080/"
    },
    "id": "ml9L1qCJa3i3",
    "outputId": "34729f8c-75c8-41f7-feca-9218b93c330f"
   },
   "outputs": [
    {
     "data": {
      "text/plain": [
       "19380"
      ]
     },
     "execution_count": 15,
     "metadata": {},
     "output_type": "execute_result"
    }
   ],
   "source": [
    "num_words = len(tokenizer.word_index)\n",
    "num_words"
   ]
  },
  {
   "cell_type": "markdown",
   "id": "TdiN7RwKCazp",
   "metadata": {
    "id": "TdiN7RwKCazp"
   },
   "source": [
    "Transformamos el corpus de secuencias de tokens en sequencias de números enteros"
   ]
  },
  {
   "cell_type": "code",
   "execution_count": 16,
   "id": "5ba1412f-ccd9-432e-9407-80f149cd6727",
   "metadata": {
    "id": "5ba1412f-ccd9-432e-9407-80f149cd6727",
    "tags": []
   },
   "outputs": [],
   "source": [
    "sequences = tokenizer.texts_to_sequences(tok_corp)"
   ]
  },
  {
   "cell_type": "markdown",
   "id": "mxmRJbPsCsKa",
   "metadata": {
    "id": "mxmRJbPsCsKa"
   },
   "source": [
    "Definimos el promedio de tamaño de todos los documentos en el corpus"
   ]
  },
  {
   "cell_type": "code",
   "execution_count": 17,
   "id": "bc8fadb3-2173-4e10-b196-24b318d074b0",
   "metadata": {
    "colab": {
     "base_uri": "https://localhost:8080/"
    },
    "id": "bc8fadb3-2173-4e10-b196-24b318d074b0",
    "outputId": "e643f4e4-9e01-4647-edce-803e8a22c643"
   },
   "outputs": [
    {
     "data": {
      "text/plain": [
       "20"
      ]
     },
     "execution_count": 17,
     "metadata": {},
     "output_type": "execute_result"
    }
   ],
   "source": [
    "mean_len = int(np.mean([len(x) for x in sequences]).round())\n",
    "mean_len"
   ]
  },
  {
   "cell_type": "markdown",
   "id": "6ruWBX9jC0dh",
   "metadata": {
    "id": "6ruWBX9jC0dh"
   },
   "source": [
    "Rellenamos o truncamos los documentos en función del valor promedio"
   ]
  },
  {
   "cell_type": "code",
   "execution_count": 18,
   "id": "ed9b4e3a-2a38-4a12-b8e6-d2c9e84abec9",
   "metadata": {
    "id": "ed9b4e3a-2a38-4a12-b8e6-d2c9e84abec9"
   },
   "outputs": [],
   "source": [
    "from tensorflow.keras.preprocessing.sequence import pad_sequences\n",
    "\n",
    "padded = pad_sequences(sequences, \n",
    "                       maxlen = mean_len, \n",
    "                       padding = 'post', \n",
    "                       truncating = 'post' )"
   ]
  },
  {
   "cell_type": "code",
   "execution_count": 19,
   "id": "33efc4e2-f1f4-4e31-bdd5-cf018d16b839",
   "metadata": {
    "colab": {
     "base_uri": "https://localhost:8080/"
    },
    "id": "33efc4e2-f1f4-4e31-bdd5-cf018d16b839",
    "outputId": "7daf8399-c733-46cc-a175-2b4ea4d3465a"
   },
   "outputs": [
    {
     "data": {
      "text/plain": [
       "(42376, 42376)"
      ]
     },
     "execution_count": 19,
     "metadata": {},
     "output_type": "execute_result"
    }
   ],
   "source": [
    "len(padded),len(binary_coms)"
   ]
  },
  {
   "cell_type": "markdown",
   "id": "FrHuySykC6NJ",
   "metadata": {
    "id": "FrHuySykC6NJ"
   },
   "source": [
    "Transformamos las categorías binarias de la data a vectores base de $\\mathbb{R^2}$"
   ]
  },
  {
   "cell_type": "code",
   "execution_count": 20,
   "id": "53a9d818-543b-41c7-8164-41e4164b1ae4",
   "metadata": {
    "colab": {
     "base_uri": "https://localhost:8080/"
    },
    "id": "53a9d818-543b-41c7-8164-41e4164b1ae4",
    "outputId": "88de5365-6dda-41c7-b66c-1d1bab0c7767"
   },
   "outputs": [
    {
     "data": {
      "text/plain": [
       "((42376,), (42376, 2))"
      ]
     },
     "execution_count": 20,
     "metadata": {},
     "output_type": "execute_result"
    }
   ],
   "source": [
    "X = binary_coms['opinion']\n",
    "y = binary_coms['sentiment']\n",
    "\n",
    "from tensorflow.keras.utils import to_categorical\n",
    "\n",
    "y = to_categorical(y)\n",
    "\n",
    "X.shape, y.shape"
   ]
  },
  {
   "cell_type": "markdown",
   "id": "aeb44c0e-ed79-4534-b1d2-5554c0e2acd8",
   "metadata": {
    "id": "aeb44c0e-ed79-4534-b1d2-5554c0e2acd8",
    "tags": []
   },
   "source": [
    "# Pregunta 2\n",
    "\n",
    "Tomar una muestra igual al 70% del conjunto de datos (X, y) y ajustar 3 modelos\n",
    "de clasificación basados en las siguientes arquitecturas de Redes Neuronales:\n",
    "   1. **CNN-1D**\n",
    "   2. **Bidirectional-LSTM o Bidirectional-GRU**\n",
    "   3. **Transformer**\n",
    "   \n",
    "Registrar el tiempo que toma el entrenamiento de cada uno de los 3 modelos.\n"
   ]
  },
  {
   "cell_type": "code",
   "execution_count": 21,
   "id": "n5ScJujsKcwt",
   "metadata": {
    "id": "n5ScJujsKcwt"
   },
   "outputs": [],
   "source": [
    "from tensorflow import reshape\n",
    "from tensorflow.keras.models import Sequential\n",
    "from tensorflow.keras.layers import Activation, Dense, Dropout\n",
    "from tensorflow.keras.layers import Embedding, Conv1D, MaxPooling1D, Flatten, LSTM, Bidirectional"
   ]
  },
  {
   "cell_type": "code",
   "execution_count": 22,
   "id": "7b8bb5b3-2e41-4b95-92ca-994d9ad0bc59",
   "metadata": {
    "id": "7b8bb5b3-2e41-4b95-92ca-994d9ad0bc59"
   },
   "outputs": [],
   "source": [
    "from sklearn.model_selection import train_test_split\n",
    "\n",
    "x_train, x_test, y_train, y_test = train_test_split(X, y, train_size = 0.7, random_state = 73)\n",
    "\n",
    "x_train = padded[x_train.index]\n",
    "x_test =  padded[x_test.index]\n",
    "\n",
    "del X , y"
   ]
  },
  {
   "cell_type": "markdown",
   "id": "3c7e3d17-9446-4db1-b697-8b0ccf10fcef",
   "metadata": {
    "id": "3c7e3d17-9446-4db1-b697-8b0ccf10fcef",
    "tags": []
   },
   "source": [
    "## 1. CNN 1-D"
   ]
  },
  {
   "cell_type": "code",
   "execution_count": 23,
   "id": "c05cb8d0-c294-4e4f-b589-dcda36dbe6c6",
   "metadata": {
    "id": "c05cb8d0-c294-4e4f-b589-dcda36dbe6c6"
   },
   "outputs": [],
   "source": [
    "batch_size = 64\n",
    "num_labels = 2\n",
    "kernel_size = 4\n",
    "pool_size = 4\n",
    "filters = 32\n",
    "dropout = 0.2"
   ]
  },
  {
   "cell_type": "code",
   "execution_count": 24,
   "id": "6160bd8b-fb17-40fc-ad9e-f8c09a24a61f",
   "metadata": {
    "colab": {
     "base_uri": "https://localhost:8080/"
    },
    "id": "6160bd8b-fb17-40fc-ad9e-f8c09a24a61f",
    "outputId": "d14a38d4-149c-41a7-c71f-96392d24c2a9"
   },
   "outputs": [
    {
     "name": "stdout",
     "output_type": "stream",
     "text": [
      "Model: \"sequential\"\n",
      "_________________________________________________________________\n",
      " Layer (type)                Output Shape              Param #   \n",
      "=================================================================\n",
      " embedding (Embedding)       (None, 20, 32)            620160    \n",
      "                                                                 \n",
      " conv1d (Conv1D)             (None, 17, 32)            4128      \n",
      "                                                                 \n",
      " max_pooling1d (MaxPooling1D  (None, 4, 32)            0         \n",
      " )                                                               \n",
      "                                                                 \n",
      " dropout (Dropout)           (None, 4, 32)             0         \n",
      "                                                                 \n",
      " flatten (Flatten)           (None, 128)               0         \n",
      "                                                                 \n",
      " dense (Dense)               (None, 2)                 258       \n",
      "                                                                 \n",
      " activation (Activation)     (None, 2)                 0         \n",
      "                                                                 \n",
      "=================================================================\n",
      "Total params: 624,546\n",
      "Trainable params: 624,546\n",
      "Non-trainable params: 0\n",
      "_________________________________________________________________\n"
     ]
    }
   ],
   "source": [
    "cnn1d = Sequential()\n",
    "#Primera capa convolucional\n",
    "cnn1d.add(Embedding(num_words, filters, input_length = x_train.shape[1]))\n",
    "cnn1d.add(Conv1D(filters = filters, kernel_size = kernel_size))\n",
    "cnn1d.add(MaxPooling1D(pool_size = pool_size))\n",
    "cnn1d.add(Dropout(dropout))\n",
    "\n",
    "cnn1d.add(Flatten())\n",
    "\n",
    "#Capa densa(full conected) \n",
    "cnn1d.add(Dense(num_labels))\n",
    "cnn1d.add(Activation('softmax'))\n",
    "cnn1d.summary()\n",
    "\n",
    "cnn1d.compile(loss = 'binary_crossentropy', \n",
    "              optimizer='adam', \n",
    "              metrics=['accuracy'])"
   ]
  },
  {
   "cell_type": "code",
   "execution_count": 25,
   "id": "FE-De0bniRuY",
   "metadata": {
    "colab": {
     "base_uri": "https://localhost:8080/"
    },
    "id": "FE-De0bniRuY",
    "outputId": "d7afcbe0-c7a1-4848-c6be-78dd5091c98b"
   },
   "outputs": [
    {
     "name": "stdout",
     "output_type": "stream",
     "text": [
      "Parámetros entrenables en la capa de incrustación: 620160\n",
      "Parámetros entrenables en la capa convolucional: 4128\n",
      "Parámetros entrenables en la capa densa: 258\n"
     ]
    }
   ],
   "source": [
    "print(\"Parámetros entrenables en la capa de incrustación:\",num_words*filters)\n",
    "print(\"Parámetros entrenables en la capa convolucional:\",(kernel_size*filters+1)*filters)\n",
    "print(\"Parámetros entrenables en la capa densa:\",(128+1)*2)"
   ]
  },
  {
   "cell_type": "code",
   "execution_count": 26,
   "id": "a2325ae5-92b3-49b9-a9fb-3b17e226f4e7",
   "metadata": {
    "colab": {
     "base_uri": "https://localhost:8080/"
    },
    "id": "a2325ae5-92b3-49b9-a9fb-3b17e226f4e7",
    "outputId": "a624ae4b-d5da-4f17-e8ed-9c51d306fe19",
    "tags": []
   },
   "outputs": [
    {
     "name": "stdout",
     "output_type": "stream",
     "text": [
      "Epoch 1/2\n",
      "464/464 [==============================] - 14s 9ms/step - loss: 0.4673 - accuracy: 0.7646 - val_loss: 0.2890 - val_accuracy: 0.8837\n",
      "Epoch 2/2\n",
      "464/464 [==============================] - 4s 8ms/step - loss: 0.2023 - accuracy: 0.9211 - val_loss: 0.2076 - val_accuracy: 0.9210\n",
      "199/199 [==============================] - 1s 3ms/step - loss: 0.2076 - accuracy: 0.9210\n",
      "CPU times: user 12.1 s, sys: 1.93 s, total: 14.1 s\n",
      "Wall time: 18.9 s\n"
     ]
    }
   ],
   "source": [
    "%%time\n",
    "history_cnn1d = cnn1d.fit(x_train, y_train, \n",
    "                          batch_size = batch_size, \n",
    "                          epochs = 2, \n",
    "                          validation_data = (x_test, y_test))\n",
    "\n",
    "cnn1d_loss, cnn1d_acc = cnn1d.evaluate(x_test, y_test, \n",
    "                                       batch_size=batch_size)"
   ]
  },
  {
   "cell_type": "markdown",
   "id": "f03f3af4-97ba-4d99-b360-6776c6930080",
   "metadata": {
    "id": "f03f3af4-97ba-4d99-b360-6776c6930080"
   },
   "source": [
    "## 2. Bidirectional-LSTM "
   ]
  },
  {
   "cell_type": "code",
   "execution_count": 27,
   "id": "hitEMknfJ1v6",
   "metadata": {
    "colab": {
     "base_uri": "https://localhost:8080/"
    },
    "id": "hitEMknfJ1v6",
    "outputId": "5daf26cd-4d45-4dfa-9b4b-6f50557c542a"
   },
   "outputs": [
    {
     "name": "stdout",
     "output_type": "stream",
     "text": [
      "Model: \"sequential_1\"\n",
      "_________________________________________________________________\n",
      " Layer (type)                Output Shape              Param #   \n",
      "=================================================================\n",
      " embedding_1 (Embedding)     (None, 20, 32)            620160    \n",
      "                                                                 \n",
      " bidirectional (Bidirectiona  (None, 128)              49664     \n",
      " l)                                                              \n",
      "                                                                 \n",
      " dropout_1 (Dropout)         (None, 128)               0         \n",
      "                                                                 \n",
      " flatten_1 (Flatten)         (None, 128)               0         \n",
      "                                                                 \n",
      " dense_1 (Dense)             (None, 2)                 258       \n",
      "                                                                 \n",
      " activation_1 (Activation)   (None, 2)                 0         \n",
      "                                                                 \n",
      "=================================================================\n",
      "Total params: 670,082\n",
      "Trainable params: 670,082\n",
      "Non-trainable params: 0\n",
      "_________________________________________________________________\n"
     ]
    }
   ],
   "source": [
    "biLSTM = Sequential()\n",
    "#Primera capa convolucional\n",
    "biLSTM.add(Embedding(num_words, filters, input_length = x_train.shape[1]))\n",
    "biLSTM.add(Bidirectional(LSTM(batch_size)))\n",
    "biLSTM.add(Dropout(dropout))\n",
    "\n",
    "biLSTM.add(Flatten())\n",
    "\n",
    "#Capa densa(full conected) \n",
    "biLSTM.add(Dense(num_labels))\n",
    "biLSTM.add(Activation('softmax'))\n",
    "biLSTM.summary()\n",
    "\n",
    "biLSTM.compile(loss = 'binary_crossentropy', \n",
    "               optimizer='adam', \n",
    "               metrics=['accuracy'])"
   ]
  },
  {
   "cell_type": "code",
   "execution_count": 28,
   "id": "Z_VoQtSAmddz",
   "metadata": {
    "colab": {
     "base_uri": "https://localhost:8080/"
    },
    "id": "Z_VoQtSAmddz",
    "outputId": "0bd55f71-dc6c-4110-ee7e-fce445777c48"
   },
   "outputs": [
    {
     "name": "stdout",
     "output_type": "stream",
     "text": [
      "Parámetros entrenables en la capa de incrustación: 620160\n",
      "Parámetros entrenables en la capa bidireccional: 49664\n",
      "Parámetros entrenables en la capa densa: 258\n"
     ]
    }
   ],
   "source": [
    "print(\"Parámetros entrenables en la capa de incrustación:\",num_words*filters)\n",
    "print(\"Parámetros entrenables en la capa bidireccional:\",2*4*((batch_size+filters)*batch_size+batch_size))\n",
    "print(\"Parámetros entrenables en la capa densa:\",(128+1)*2)"
   ]
  },
  {
   "cell_type": "code",
   "execution_count": 30,
   "id": "c79f8036-8fbb-4e86-ac85-e3303aabadc9",
   "metadata": {
    "colab": {
     "base_uri": "https://localhost:8080/"
    },
    "id": "c79f8036-8fbb-4e86-ac85-e3303aabadc9",
    "outputId": "404bd51c-e349-4c9c-e94c-939707ba406f"
   },
   "outputs": [
    {
     "name": "stdout",
     "output_type": "stream",
     "text": [
      "Epoch 1/2\n",
      "464/464 [==============================] - 14s 20ms/step - loss: 0.3712 - accuracy: 0.8286 - val_loss: 0.2618 - val_accuracy: 0.8939\n",
      "Epoch 2/2\n",
      "464/464 [==============================] - 8s 18ms/step - loss: 0.1648 - accuracy: 0.9368 - val_loss: 0.1924 - val_accuracy: 0.9286\n",
      "199/199 [==============================] - 2s 9ms/step - loss: 0.1924 - accuracy: 0.9286\n",
      "CPU times: user 23.4 s, sys: 2.45 s, total: 25.9 s\n",
      "Wall time: 27.4 s\n"
     ]
    }
   ],
   "source": [
    "%%time\n",
    "history_biLSTM = biLSTM.fit(x_train, y_train, \n",
    "                            batch_size = batch_size, \n",
    "                            epochs = 2, \n",
    "                            validation_data = (x_test, y_test))\n",
    "\n",
    "biLSTM_loss, biLSTM_acc = biLSTM.evaluate(x_test, y_test, \n",
    "                                          batch_size=batch_size)"
   ]
  },
  {
   "cell_type": "markdown",
   "id": "S1E9pExKRs1u",
   "metadata": {
    "id": "S1E9pExKRs1u"
   },
   "source": [
    "## 2.Transformer"
   ]
  },
  {
   "cell_type": "code",
   "execution_count": 31,
   "id": "JarBccbUQJ2r",
   "metadata": {
    "id": "JarBccbUQJ2r"
   },
   "outputs": [],
   "source": [
    "import tensorflow as tf\n",
    "from tensorflow import keras\n",
    "from tensorflow.keras import layers\n",
    "\n",
    "class TransformerBlock(layers.Layer):\n",
    "    def __init__(self, embed_dim, num_heads, ff_dim, rate=0.1):\n",
    "        super(TransformerBlock, self).__init__()\n",
    "        self.att = layers.MultiHeadAttention(num_heads=num_heads, key_dim=embed_dim)\n",
    "        self.ffn = keras.Sequential([layers.Dense(ff_dim, activation=\"relu\"), layers.Dense(embed_dim),])\n",
    "        self.layernorm1 = layers.LayerNormalization(epsilon=1e-6)\n",
    "        self.layernorm2 = layers.LayerNormalization(epsilon=1e-6)\n",
    "        self.dropout1 = layers.Dropout(rate)\n",
    "        self.dropout2 = layers.Dropout(rate)\n",
    "\n",
    "    def call(self, inputs, training):\n",
    "        attn_output = self.att(inputs, inputs)\n",
    "        attn_output = self.dropout1(attn_output, training=training)\n",
    "        out1 = self.layernorm1(inputs + attn_output)\n",
    "        ffn_output = self.ffn(out1)\n",
    "        ffn_output = self.dropout2(ffn_output, training=training)\n",
    "        return self.layernorm2(out1 + ffn_output)\n",
    "\n",
    "\n",
    "class TokenAndPositionEmbedding(layers.Layer):\n",
    "    def __init__(self, maxlen, vocab_size, embed_dim):\n",
    "        super(TokenAndPositionEmbedding, self).__init__()\n",
    "        self.token_emb = layers.Embedding(input_dim=vocab_size, output_dim=embed_dim)\n",
    "        self.pos_emb = layers.Embedding(input_dim=maxlen, output_dim=embed_dim)\n",
    "\n",
    "    def call(self, x):\n",
    "        maxlen = tf.shape(x)[-1]\n",
    "        positions = tf.range(start=0, limit=maxlen, delta=1)\n",
    "        positions = self.pos_emb(positions)\n",
    "        x = self.token_emb(x)\n",
    "        return x + positions"
   ]
  },
  {
   "cell_type": "code",
   "execution_count": 32,
   "id": "gKaTg0EPRLiT",
   "metadata": {
    "colab": {
     "base_uri": "https://localhost:8080/"
    },
    "id": "gKaTg0EPRLiT",
    "outputId": "7b219570-fff9-4943-ef40-5dabdbb587e9"
   },
   "outputs": [
    {
     "name": "stdout",
     "output_type": "stream",
     "text": [
      "Model: \"model\"\n",
      "_________________________________________________________________\n",
      " Layer (type)                Output Shape              Param #   \n",
      "=================================================================\n",
      " input_1 (InputLayer)        [(None, 20)]              0         \n",
      "                                                                 \n",
      " token_and_position_embeddin  (None, 20, 32)           620800    \n",
      " g (TokenAndPositionEmbeddin                                     \n",
      " g)                                                              \n",
      "                                                                 \n",
      " transformer_block (Transfor  (None, 20, 32)           9616      \n",
      " merBlock)                                                       \n",
      "                                                                 \n",
      " global_max_pooling1d (Globa  (None, 32)               0         \n",
      " lMaxPooling1D)                                                  \n",
      "                                                                 \n",
      " dense_4 (Dense)             (None, 20)                660       \n",
      "                                                                 \n",
      " dropout_4 (Dropout)         (None, 20)                0         \n",
      "                                                                 \n",
      " dense_5 (Dense)             (None, 2)                 42        \n",
      "                                                                 \n",
      "=================================================================\n",
      "Total params: 631,118\n",
      "Trainable params: 631,118\n",
      "Non-trainable params: 0\n",
      "_________________________________________________________________\n"
     ]
    }
   ],
   "source": [
    "num_heads = 2\n",
    "ff_dim = 16\n",
    "\n",
    "inputs = layers.Input(shape=(mean_len,))\n",
    "embedding_layer = TokenAndPositionEmbedding(mean_len, num_words, filters)\n",
    "x = embedding_layer(inputs)\n",
    "transformer_block = TransformerBlock(filters, num_heads, ff_dim)\n",
    "x = transformer_block(x)\n",
    "x = layers.GlobalMaxPooling1D()(x)\n",
    "x = layers.Dense(20, activation=\"relu\")(x)\n",
    "x = layers.Dropout(dropout)(x)\n",
    "outputs = layers.Dense(2, activation=\"softmax\")(x)\n",
    "\n",
    "transformer = keras.Model(inputs=inputs, outputs=outputs)\n",
    "transformer.summary()"
   ]
  },
  {
   "cell_type": "code",
   "execution_count": 33,
   "id": "8n8tl1aXErz3",
   "metadata": {
    "colab": {
     "base_uri": "https://localhost:8080/"
    },
    "id": "8n8tl1aXErz3",
    "outputId": "30c3aec1-eeb9-456f-9a89-3f97470c207c"
   },
   "outputs": [
    {
     "name": "stdout",
     "output_type": "stream",
     "text": [
      "Parámetros entrenables en la capa de incrustación: 620800\n",
      "Parámetros entrenables en la primera capa densa: 660\n",
      "Parámetros entrenables en la segunda capa densa: 42\n"
     ]
    }
   ],
   "source": [
    "print(\"Parámetros entrenables en la capa de incrustación:\",(num_words+16+2*2)*32)\n",
    "print(\"Parámetros entrenables en la primera capa densa:\",(32+1)*20)\n",
    "print(\"Parámetros entrenables en la segunda capa densa:\",(20+1)*2)"
   ]
  },
  {
   "cell_type": "code",
   "execution_count": 34,
   "id": "7BDa1WOTmkNa",
   "metadata": {
    "colab": {
     "base_uri": "https://localhost:8080/"
    },
    "id": "7BDa1WOTmkNa",
    "outputId": "f9fd5736-552d-4104-f8a6-2f580622fd6d"
   },
   "outputs": [
    {
     "name": "stdout",
     "output_type": "stream",
     "text": [
      "Epoch 1/2\n",
      "464/464 [==============================] - 13s 16ms/step - loss: 0.4993 - accuracy: 0.7518 - val_loss: 0.2889 - val_accuracy: 0.8841\n",
      "Epoch 2/2\n",
      "464/464 [==============================] - 7s 15ms/step - loss: 0.1995 - accuracy: 0.9287 - val_loss: 0.1845 - val_accuracy: 0.9291\n",
      "CPU times: user 20.6 s, sys: 2.02 s, total: 22.6 s\n",
      "Wall time: 24.6 s\n"
     ]
    }
   ],
   "source": [
    "%%time\n",
    "\n",
    "transformer.compile(optimizer=\"adam\",\n",
    "                    loss=\"binary_crossentropy\", \n",
    "                    metrics=[\"accuracy\"])\n",
    "transformer_history = transformer.fit(x_train, y_train,\n",
    "                                      batch_size = batch_size,\n",
    "                                      epochs=2, \n",
    "                                      validation_data=(x_test, y_test))"
   ]
  },
  {
   "cell_type": "markdown",
   "id": "b3jogoHpfANv",
   "metadata": {
    "id": "b3jogoHpfANv"
   },
   "source": [
    "# Pregunta 3\n",
    "Con el 30% de los datos del conjunto $(X,y)$ que no se utilizaron en la pegunta 2, testear los 3 modelos de clasificación y obtener la **matriz de confusión**. A partir de esta, calcular: **Exactitud, F1-Score y Recall** ¿Cuál es el mejor modelo de análisis de sentimientos? Estudiar si el modelo sufrió bajo-ajuste y/o sobre-ajuste durante el entrenamiento."
   ]
  },
  {
   "cell_type": "code",
   "execution_count": 35,
   "id": "HL1ncGOHjt60",
   "metadata": {
    "id": "HL1ncGOHjt60"
   },
   "outputs": [],
   "source": [
    "from sklearn.metrics import confusion_matrix, ConfusionMatrixDisplay, recall_score, f1_score, accuracy_score\n",
    "import matplotlib.pyplot as plt"
   ]
  },
  {
   "cell_type": "code",
   "execution_count": 36,
   "id": "GtHQ1NCPkbi-",
   "metadata": {
    "id": "GtHQ1NCPkbi-"
   },
   "outputs": [],
   "source": [
    "cnn1d_predict = cnn1d.predict(x_test).round()\n",
    "biLSTM_predict = biLSTM.predict(x_test).round()\n",
    "transformer_predict = transformer.predict(x_test).round()"
   ]
  },
  {
   "cell_type": "markdown",
   "id": "KuJMGPZmyyz0",
   "metadata": {
    "id": "KuJMGPZmyyz0"
   },
   "source": [
    "## Matriz de confusión"
   ]
  },
  {
   "cell_type": "code",
   "execution_count": 37,
   "id": "qwPfEJfuKUZp",
   "metadata": {
    "id": "qwPfEJfuKUZp"
   },
   "outputs": [],
   "source": [
    "y_test = np.argmax(y_test,axis=1)"
   ]
  },
  {
   "cell_type": "code",
   "execution_count": 38,
   "id": "tGw0pwTJJ0hS",
   "metadata": {
    "id": "tGw0pwTJJ0hS"
   },
   "outputs": [],
   "source": [
    "cnn1d_cm = confusion_matrix(y_test,np.argmax(cnn1d_predict,axis=1))\n",
    "biLSTM_cm = confusion_matrix(y_test,np.argmax(biLSTM_predict,axis=1))\n",
    "transformer_cm = confusion_matrix(y_test,np.argmax(transformer_predict,axis=1))"
   ]
  },
  {
   "cell_type": "code",
   "execution_count": 39,
   "id": "FNraG8gHxDjf",
   "metadata": {
    "colab": {
     "base_uri": "https://localhost:8080/",
     "height": 295
    },
    "id": "FNraG8gHxDjf",
    "outputId": "dabbb362-c3f5-4e5f-8ce0-4be2bafed6d4"
   },
   "outputs": [
    {
     "data": {
      "image/png": "[encoded data removed]",
      "text/plain": [
       "<Figure size 432x288 with 2 Axes>"
      ]
     },
     "metadata": {
      "needs_background": "light"
     },
     "output_type": "display_data"
    }
   ],
   "source": [
    "cnn1d_disp = ConfusionMatrixDisplay(cnn1d_cm)\n",
    "cnn1d_disp.plot()\n",
    "plt.title('$CNN~1D$')\n",
    "plt.show()"
   ]
  },
  {
   "cell_type": "code",
   "execution_count": 40,
   "id": "CQSYOXQUyZ2t",
   "metadata": {
    "colab": {
     "base_uri": "https://localhost:8080/",
     "height": 296
    },
    "id": "CQSYOXQUyZ2t",
    "outputId": "1f99b4cd-d6a0-43cd-c27e-a67638698d44"
   },
   "outputs": [
    {
     "data": {
      "image/png": "[encoded data removed]",
      "text/plain": [
       "<Figure size 432x288 with 2 Axes>"
      ]
     },
     "metadata": {
      "needs_background": "light"
     },
     "output_type": "display_data"
    }
   ],
   "source": [
    "biLSTM_disp = ConfusionMatrixDisplay(biLSTM_cm)\n",
    "biLSTM_disp.plot()\n",
    "plt.title('$Bidirectional~LSTM $')\n",
    "plt.show()"
   ]
  },
  {
   "cell_type": "code",
   "execution_count": 41,
   "id": "-gszkfiRygj1",
   "metadata": {
    "colab": {
     "base_uri": "https://localhost:8080/",
     "height": 296
    },
    "id": "-gszkfiRygj1",
    "outputId": "0d15b706-0e58-4f7b-a6a3-94a97caca1f0"
   },
   "outputs": [
    {
     "data": {
      "image/png": "[encoded data removed]",
      "text/plain": [
       "<Figure size 432x288 with 2 Axes>"
      ]
     },
     "metadata": {
      "needs_background": "light"
     },
     "output_type": "display_data"
    }
   ],
   "source": [
    "transformer_disp = ConfusionMatrixDisplay(transformer_cm)\n",
    "transformer_disp.plot()\n",
    "plt.title('$Transformer$')\n",
    "plt.show()"
   ]
  },
  {
   "cell_type": "markdown",
   "id": "v_3R1YNl3YEZ",
   "metadata": {
    "id": "v_3R1YNl3YEZ"
   },
   "source": [
    "## Exactitud"
   ]
  },
  {
   "cell_type": "markdown",
   "id": "ZEVarn_L9GbU",
   "metadata": {
    "id": "ZEVarn_L9GbU"
   },
   "source": [
    "$$accuracy = \\frac{TP + TN}{TP + TN + FP + FN}\n",
    "$$"
   ]
  },
  {
   "cell_type": "code",
   "execution_count": 42,
   "id": "hENR8PzArC6M",
   "metadata": {
    "id": "hENR8PzArC6M"
   },
   "outputs": [],
   "source": [
    "def accuracy(confusion_matrix):\n",
    "  cm = confusion_matrix\n",
    "  acc = (cm[0,0]+cm[1,1])/np.sum(cm)\n",
    "  return acc"
   ]
  },
  {
   "cell_type": "code",
   "execution_count": 43,
   "id": "J2S3tJKg_7HZ",
   "metadata": {
    "colab": {
     "base_uri": "https://localhost:8080/"
    },
    "id": "J2S3tJKg_7HZ",
    "outputId": "62a9b996-bb00-48be-c16b-5d786a87c833"
   },
   "outputs": [
    {
     "name": "stdout",
     "output_type": "stream",
     "text": [
      "Exactitud en la Red Neuronal Convolucional 1D: %92.10257217021946\n",
      "Exactitud en Bidirectional LSTM : %92.85770471171242\n",
      "Exactitud en Transformer: %92.91276645952962\n"
     ]
    }
   ],
   "source": [
    "print(\"Exactitud en la Red Neuronal Convolucional 1D: %\"+str((accuracy(cnn1d_cm)*100)))\n",
    "print(\"Exactitud en Bidirectional LSTM : %\"+str((accuracy(biLSTM_cm)*100)))\n",
    "print(\"Exactitud en Transformer: %\"+str((accuracy(transformer_cm)*100)))"
   ]
  },
  {
   "cell_type": "markdown",
   "id": "Y4a7w1WHCPVY",
   "metadata": {
    "id": "Y4a7w1WHCPVY"
   },
   "source": [
    "## F1 Score"
   ]
  },
  {
   "cell_type": "markdown",
   "id": "_lePgAgr4hTP",
   "metadata": {
    "id": "_lePgAgr4hTP"
   },
   "source": [
    "$$F1 = \\frac{TP}{TP+\\frac{1}{2}(FP+FN)}$$"
   ]
  },
  {
   "cell_type": "code",
   "execution_count": 44,
   "id": "a27vgdkQClFH",
   "metadata": {
    "id": "a27vgdkQClFH"
   },
   "outputs": [],
   "source": [
    "def f1_score(confusion_matrix):\n",
    "  cm = confusion_matrix\n",
    "  f1 = cm[1,1]/(cm[1,1]+0.5*(cm[0,1]+cm[1,0]))\n",
    "  return f1"
   ]
  },
  {
   "cell_type": "code",
   "execution_count": 45,
   "id": "yeN1Wm5dDwm3",
   "metadata": {
    "colab": {
     "base_uri": "https://localhost:8080/"
    },
    "id": "yeN1Wm5dDwm3",
    "outputId": "583210b1-45b9-4271-f340-ac9292de6d65"
   },
   "outputs": [
    {
     "name": "stdout",
     "output_type": "stream",
     "text": [
      "F1 Score en la Red Neuronal Convolucional 1D: 92.15992503513978\n",
      "F1 Score en Bidirectional LSTM : 92.7982233502538\n",
      "F1 Score en Transformer: 92.95488310266636\n"
     ]
    }
   ],
   "source": [
    "print(\"F1 Score en la Red Neuronal Convolucional 1D: \"+str((f1_score(cnn1d_cm)*100)))\n",
    "print(\"F1 Score en Bidirectional LSTM : \"+str((f1_score(biLSTM_cm)*100)))\n",
    "print(\"F1 Score en Transformer: \"+str((f1_score(transformer_cm)*100)))"
   ]
  },
  {
   "cell_type": "markdown",
   "id": "hXFV9HYBEU7W",
   "metadata": {
    "id": "hXFV9HYBEU7W"
   },
   "source": [
    "## Recall"
   ]
  },
  {
   "cell_type": "markdown",
   "id": "jA5cov0iEh1G",
   "metadata": {
    "id": "jA5cov0iEh1G"
   },
   "source": [
    "$$recall = \\frac{TP}{TP+FN}$$"
   ]
  },
  {
   "cell_type": "code",
   "execution_count": 46,
   "id": "WmnOV4zkD9Ue",
   "metadata": {
    "id": "WmnOV4zkD9Ue"
   },
   "outputs": [],
   "source": [
    "def recall(confusion_matrix):\n",
    "  cm = confusion_matrix\n",
    "  r = cm[1,1]/(cm[1,1]+cm[1,0])\n",
    "  return r"
   ]
  },
  {
   "cell_type": "code",
   "execution_count": 47,
   "id": "ad_DZzSYFMhO",
   "metadata": {
    "colab": {
     "base_uri": "https://localhost:8080/"
    },
    "id": "ad_DZzSYFMhO",
    "outputId": "7f20fbb7-02da-47ed-90e2-55805676c634"
   },
   "outputs": [
    {
     "name": "stdout",
     "output_type": "stream",
     "text": [
      "Recall en la Red Neuronal Convolucional 1D: 92.55018820577165\n",
      "Recall en Bidirectional LSTM : 91.75031367628608\n",
      "Recall en Transformer: 93.2245922208281\n"
     ]
    }
   ],
   "source": [
    "print(\"Recall en la Red Neuronal Convolucional 1D: \"+str((recall(cnn1d_cm)*100)))\n",
    "print(\"Recall en Bidirectional LSTM : \"+str((recall(biLSTM_cm)*100)))\n",
    "print(\"Recall en Transformer: \"+str((recall(transformer_cm)*100)))"
   ]
  },
  {
   "cell_type": "markdown",
   "id": "jeJ_8W_NO-Ed",
   "metadata": {
    "id": "jeJ_8W_NO-Ed"
   },
   "source": [
    "## Exactitud y pérdida en el entrenamiento"
   ]
  },
  {
   "cell_type": "code",
   "execution_count": 48,
   "id": "2c842f49-b001-4fb4-83cb-811e89cc04a3",
   "metadata": {
    "colab": {
     "base_uri": "https://localhost:8080/",
     "height": 297
    },
    "id": "2c842f49-b001-4fb4-83cb-811e89cc04a3",
    "outputId": "5ca4cf23-b291-44d1-ff76-2d0241aa7046"
   },
   "outputs": [
    {
     "data": {
      "image/png": "[encoded data removed]",
      "text/plain": [
       "<Figure size 432x288 with 1 Axes>"
      ]
     },
     "metadata": {
      "needs_background": "light"
     },
     "output_type": "display_data"
    }
   ],
   "source": [
    "import matplotlib.pyplot as plt\n",
    "\n",
    "plt.plot(history_cnn1d.history[\"loss\"], label = \"Loss Train\")\n",
    "plt.plot(history_cnn1d.history[\"val_loss\"], label = \"Loss Test\")\n",
    "plt.plot(history_cnn1d.history[\"accuracy\"], label = \"Acc Train\")\n",
    "plt.plot(history_cnn1d.history[\"val_accuracy\"], label = \"Acc Test\")\n",
    "plt.title('Convolutional Neural Networks 1D')\n",
    "plt.xlabel('Épocas')\n",
    "plt.legend()\n",
    "plt.show()"
   ]
  },
  {
   "cell_type": "code",
   "execution_count": 49,
   "id": "8A72_z6gMYov",
   "metadata": {
    "colab": {
     "base_uri": "https://localhost:8080/",
     "height": 297
    },
    "id": "8A72_z6gMYov",
    "outputId": "64e86b75-bdc7-4905-d641-be862659c3d4"
   },
   "outputs": [
    {
     "data": {
      "image/png": "[encoded data removed]",
      "text/plain": [
       "<Figure size 432x288 with 1 Axes>"
      ]
     },
     "metadata": {
      "needs_background": "light"
     },
     "output_type": "display_data"
    }
   ],
   "source": [
    "plt.plot(history_biLSTM.history[\"loss\"], label = \"Loss Train\")\n",
    "plt.plot(history_biLSTM.history[\"val_loss\"], label = \"Loss Test\")\n",
    "plt.plot(history_biLSTM.history[\"accuracy\"], label = \"Acc Train\")\n",
    "plt.plot(history_biLSTM.history[\"val_accuracy\"], label = \"Acc Test\")\n",
    "plt.title('Bidirectional LSTM')\n",
    "plt.xlabel('Épocas')\n",
    "plt.legend()\n",
    "plt.show()"
   ]
  },
  {
   "cell_type": "code",
   "execution_count": 50,
   "id": "oOcl_vYmLOHA",
   "metadata": {
    "colab": {
     "base_uri": "https://localhost:8080/",
     "height": 295
    },
    "id": "oOcl_vYmLOHA",
    "outputId": "1c465751-1900-48e4-b243-36d82e343e8f"
   },
   "outputs": [
    {
     "data": {
      "image/png": "[encoded data removed]",
      "text/plain": [
       "<Figure size 432x288 with 1 Axes>"
      ]
     },
     "metadata": {
      "needs_background": "light"
     },
     "output_type": "display_data"
    }
   ],
   "source": [
    "plt.plot(transformer_history.history[\"loss\"], label=\"Loss Train\")\n",
    "plt.plot(transformer_history.history[\"val_loss\"], label=\"Loss Test\")\n",
    "plt.plot(transformer_history.history[\"accuracy\"], label=\"Acc Train\")\n",
    "plt.plot(transformer_history.history[\"val_accuracy\"], label=\"Acc Test\")\n",
    "plt.title('Transformer')\n",
    "plt.ylabel('Métricas')\n",
    "plt.xlabel('Epocas')\n",
    "plt.legend(loc='best')\n",
    "plt.show()"
   ]
  }
 ],
 "metadata": {
  "accelerator": "GPU",
  "colab": {
   "name": "Tarea1.ipynb",
   "provenance": [],
   "toc_visible": true
  },
  "kernelspec": {
   "display_name": "Python 3.8.13 ('gpu')",
   "language": "python",
   "name": "python3"
  },
  "language_info": {
   "codemirror_mode": {
    "name": "ipython",
    "version": 3
   },
   "file_extension": ".py",
   "mimetype": "text/x-python",
   "name": "python",
   "nbconvert_exporter": "python",
   "pygments_lexer": "ipython3",
   "version": "3.8.13"
  },
  "toc-autonumbering": false,
  "vscode": {
   "interpreter": {
    "hash": "82504ee5e1dd41d1b2ba4f67dfedcb88a0d45484ec9af62eda8250aa09e1feb3"
   }
  }
 },
 "nbformat": 4,
 "nbformat_minor": 5
}
